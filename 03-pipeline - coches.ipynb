{
 "cells": [
  {
   "cell_type": "markdown",
   "metadata": {
    "id": "p4NcFUIUjuaj"
   },
   "source": [
    "# Final Machine Learning Pipeline"
   ]
  },
  {
   "cell_type": "code",
   "execution_count": 13,
   "metadata": {
    "id": "N68GujQwjuak"
   },
   "outputs": [],
   "source": [
    "# data manipulation and plotting\n",
    "import pandas as pd\n",
    "import numpy as np\n",
    "import matplotlib.pyplot as plt\n",
    "\n",
    "# for saving the pipeline\n",
    "import joblib\n",
    "\n",
    "# from Scikit-learn\n",
    "#from sklearn.linear_model import Lasso, LinearRegression\n",
    "from sklearn.metrics import mean_squared_error, r2_score\n",
    "from sklearn.model_selection import train_test_split\n",
    "from sklearn.pipeline import Pipeline\n",
    "from sklearn.preprocessing import MinMaxScaler, Binarizer\n",
    "\n",
    "from lightgbm import LGBMRegressor\n",
    "\n",
    "from feature_engine.encoding import (\n",
    "    OrdinalEncoder,\n",
    ")\n",
    "\n",
    "#from sklearn.preprocessing import PowerTransformer\n",
    "\n",
    "from feature_engine.transformation import LogTransformer, YeoJohnsonTransformer\n",
    "\n",
    "#import scipy.stats as stats\n",
    "#from feature_engine.selection import DropFeatures\n",
    "#from feature_engine.wrappers import SklearnTransformerWrapper\n",
    "\n",
    "#from sklearn.preprocessing import StandardScaler\n",
    "\n",
    "import Input.preprocessors as pp\n",
    "\n",
    "import datetime\n",
    "\n",
    "pd.pandas.set_option('display.max_columns', None)\n",
    "#pd.pandas.set_option(\"future.no_silent_downcasting\", True)\n"
   ]
  },
  {
   "cell_type": "code",
   "execution_count": 14,
   "metadata": {
    "colab": {
     "base_uri": "https://localhost:8080/",
     "height": 273
    },
    "executionInfo": {
     "elapsed": 532,
     "status": "ok",
     "timestamp": 1713466578766,
     "user": {
      "displayName": "Luis Fernando Solis Navarro",
      "userId": "12047414360120813726"
     },
     "user_tz": 180
    },
    "id": "DvLgZw0vjual",
    "outputId": "06d62d84-e5d2-48f6-fa99-e40eef766203"
   },
   "outputs": [
    {
     "name": "stdout",
     "output_type": "stream",
     "text": [
      "(1642, 10)\n"
     ]
    },
    {
     "data": {
      "text/html": [
       "<div>\n",
       "<style scoped>\n",
       "    .dataframe tbody tr th:only-of-type {\n",
       "        vertical-align: middle;\n",
       "    }\n",
       "\n",
       "    .dataframe tbody tr th {\n",
       "        vertical-align: top;\n",
       "    }\n",
       "\n",
       "    .dataframe thead th {\n",
       "        text-align: right;\n",
       "    }\n",
       "</style>\n",
       "<table border=\"1\" class=\"dataframe\">\n",
       "  <thead>\n",
       "    <tr style=\"text-align: right;\">\n",
       "      <th></th>\n",
       "      <th>model</th>\n",
       "      <th>year</th>\n",
       "      <th>motor_type</th>\n",
       "      <th>running</th>\n",
       "      <th>wheel</th>\n",
       "      <th>color</th>\n",
       "      <th>type</th>\n",
       "      <th>status</th>\n",
       "      <th>motor_volume</th>\n",
       "      <th>price</th>\n",
       "    </tr>\n",
       "  </thead>\n",
       "  <tbody>\n",
       "    <tr>\n",
       "      <th>0</th>\n",
       "      <td>toyota</td>\n",
       "      <td>2022</td>\n",
       "      <td>petrol</td>\n",
       "      <td>3000  km</td>\n",
       "      <td>left</td>\n",
       "      <td>skyblue</td>\n",
       "      <td>sedan</td>\n",
       "      <td>excellent</td>\n",
       "      <td>2.0</td>\n",
       "      <td>24500</td>\n",
       "    </tr>\n",
       "    <tr>\n",
       "      <th>1</th>\n",
       "      <td>mercedes-benz</td>\n",
       "      <td>2014</td>\n",
       "      <td>petrol</td>\n",
       "      <td>132000  km</td>\n",
       "      <td>left</td>\n",
       "      <td>black</td>\n",
       "      <td>sedan</td>\n",
       "      <td>excellent</td>\n",
       "      <td>2.0</td>\n",
       "      <td>25500</td>\n",
       "    </tr>\n",
       "    <tr>\n",
       "      <th>2</th>\n",
       "      <td>kia</td>\n",
       "      <td>2018</td>\n",
       "      <td>petrol</td>\n",
       "      <td>95000  miles</td>\n",
       "      <td>left</td>\n",
       "      <td>other</td>\n",
       "      <td>sedan</td>\n",
       "      <td>excellent</td>\n",
       "      <td>2.0</td>\n",
       "      <td>11700</td>\n",
       "    </tr>\n",
       "    <tr>\n",
       "      <th>3</th>\n",
       "      <td>mercedes-benz</td>\n",
       "      <td>2002</td>\n",
       "      <td>petrol</td>\n",
       "      <td>137000  miles</td>\n",
       "      <td>left</td>\n",
       "      <td>golden</td>\n",
       "      <td>sedan</td>\n",
       "      <td>excellent</td>\n",
       "      <td>3.2</td>\n",
       "      <td>12000</td>\n",
       "    </tr>\n",
       "    <tr>\n",
       "      <th>4</th>\n",
       "      <td>mercedes-benz</td>\n",
       "      <td>2017</td>\n",
       "      <td>petrol</td>\n",
       "      <td>130000  km</td>\n",
       "      <td>left</td>\n",
       "      <td>black</td>\n",
       "      <td>sedan</td>\n",
       "      <td>good</td>\n",
       "      <td>2.0</td>\n",
       "      <td>26000</td>\n",
       "    </tr>\n",
       "  </tbody>\n",
       "</table>\n",
       "</div>"
      ],
      "text/plain": [
       "           model  year motor_type        running wheel    color   type  \\\n",
       "0         toyota  2022     petrol       3000  km  left  skyblue  sedan   \n",
       "1  mercedes-benz  2014     petrol     132000  km  left    black  sedan   \n",
       "2            kia  2018     petrol   95000  miles  left    other  sedan   \n",
       "3  mercedes-benz  2002     petrol  137000  miles  left   golden  sedan   \n",
       "4  mercedes-benz  2017     petrol     130000  km  left    black  sedan   \n",
       "\n",
       "      status  motor_volume  price  \n",
       "0  excellent           2.0  24500  \n",
       "1  excellent           2.0  25500  \n",
       "2  excellent           2.0  11700  \n",
       "3  excellent           3.2  12000  \n",
       "4       good           2.0  26000  "
      ]
     },
     "execution_count": 14,
     "metadata": {},
     "output_type": "execute_result"
    }
   ],
   "source": [
    "# load dataset\n",
    "data = pd.read_csv('./input/train_coche.csv')\n",
    "\n",
    "# rows and columns of the data\n",
    "print(data.shape)\n",
    "\n",
    "# visualise the dataset\n",
    "data.head()"
   ]
  },
  {
   "cell_type": "markdown",
   "metadata": {},
   "source": [
    "Quitamos etiquetas km y miles de variable running y convertimos a numérico"
   ]
  },
  {
   "cell_type": "code",
   "execution_count": 15,
   "metadata": {},
   "outputs": [
    {
     "data": {
      "text/plain": [
       "0         3000.0\n",
       "1       132000.0\n",
       "2        95000.0\n",
       "3       137000.0\n",
       "4       130000.0\n",
       "          ...   \n",
       "1637    120000.0\n",
       "1638    170000.0\n",
       "1639     68900.0\n",
       "1640     31000.0\n",
       "1641        20.0\n",
       "Name: running, Length: 1642, dtype: float64"
      ]
     },
     "execution_count": 15,
     "metadata": {},
     "output_type": "execute_result"
    }
   ],
   "source": [
    "\n",
    "data[\"running\"] = data[\"running\"].astype(str)\n",
    "data[\"running\"] = data[\"running\"].str.replace(\" km\",\"\")\n",
    "data[\"running\"] = data[\"running\"].str.replace(\" miles\",\"\")\n",
    "data[\"running\"] = data[\"running\"].astype(float)\n",
    "data[\"running\"]"
   ]
  },
  {
   "cell_type": "code",
   "execution_count": 4,
   "metadata": {},
   "outputs": [
    {
     "name": "stdout",
     "output_type": "stream",
     "text": [
      "<class 'pandas.core.frame.DataFrame'>\n",
      "RangeIndex: 1642 entries, 0 to 1641\n",
      "Data columns (total 10 columns):\n",
      " #   Column        Non-Null Count  Dtype  \n",
      "---  ------        --------------  -----  \n",
      " 0   model         1642 non-null   object \n",
      " 1   year          1642 non-null   int64  \n",
      " 2   motor_type    1642 non-null   object \n",
      " 3   running       1642 non-null   float64\n",
      " 4   wheel         1642 non-null   object \n",
      " 5   color         1642 non-null   object \n",
      " 6   type          1642 non-null   object \n",
      " 7   status        1642 non-null   object \n",
      " 8   motor_volume  1642 non-null   float64\n",
      " 9   price         1642 non-null   int64  \n",
      "dtypes: float64(2), int64(2), object(6)\n",
      "memory usage: 128.4+ KB\n"
     ]
    }
   ],
   "source": [
    "data.info()"
   ]
  },
  {
   "cell_type": "markdown",
   "metadata": {},
   "source": [
    "**Valores Nulos**\n",
    "\n",
    "No se encontraron valores nulos."
   ]
  },
  {
   "cell_type": "code",
   "execution_count": 16,
   "metadata": {},
   "outputs": [
    {
     "data": {
      "text/plain": [
       "Series([], dtype: float64)"
      ]
     },
     "execution_count": 16,
     "metadata": {},
     "output_type": "execute_result"
    }
   ],
   "source": [
    "vars_with_na = [var for var in data.columns if data[var].isnull().sum() > 0]\n",
    "data[vars_with_na].isnull().mean().sort_values(ascending=False)"
   ]
  },
  {
   "cell_type": "markdown",
   "metadata": {},
   "source": [
    "Variables Categóritcas"
   ]
  },
  {
   "cell_type": "code",
   "execution_count": 17,
   "metadata": {},
   "outputs": [
    {
     "data": {
      "text/plain": [
       "['model', 'motor_type', 'wheel', 'color', 'type', 'status']"
      ]
     },
     "execution_count": 17,
     "metadata": {},
     "output_type": "execute_result"
    }
   ],
   "source": [
    "cat_vars = [var for var in data.columns if data[var].dtype == 'O']\n",
    "cat_vars"
   ]
  },
  {
   "cell_type": "markdown",
   "metadata": {},
   "source": [
    "Variables Numéricas"
   ]
  },
  {
   "cell_type": "code",
   "execution_count": 18,
   "metadata": {},
   "outputs": [
    {
     "data": {
      "text/plain": [
       "['year', 'running', 'motor_volume']"
      ]
     },
     "execution_count": 18,
     "metadata": {},
     "output_type": "execute_result"
    }
   ],
   "source": [
    "num_vars = [var for var in data.columns if var not in cat_vars and var != 'price']\n",
    "num_vars"
   ]
  },
  {
   "cell_type": "markdown",
   "metadata": {},
   "source": [
    "Variables Temporales"
   ]
  },
  {
   "cell_type": "code",
   "execution_count": 19,
   "metadata": {},
   "outputs": [
    {
     "data": {
      "text/plain": [
       "['year']"
      ]
     },
     "execution_count": 19,
     "metadata": {},
     "output_type": "execute_result"
    }
   ],
   "source": [
    "year_vars = [var for var in num_vars if 'year' in var]\n",
    "year_vars"
   ]
  },
  {
   "cell_type": "markdown",
   "metadata": {},
   "source": [
    "Variables Discretas"
   ]
  },
  {
   "cell_type": "code",
   "execution_count": 20,
   "metadata": {},
   "outputs": [
    {
     "data": {
      "text/plain": [
       "[]"
      ]
     },
     "execution_count": 20,
     "metadata": {},
     "output_type": "execute_result"
    }
   ],
   "source": [
    "discrete_vars = [var for var in num_vars if len(data[var].unique()) < 20]\n",
    "discrete_vars"
   ]
  },
  {
   "cell_type": "markdown",
   "metadata": {},
   "source": [
    "Variables Continuas"
   ]
  },
  {
   "cell_type": "code",
   "execution_count": 21,
   "metadata": {},
   "outputs": [
    {
     "data": {
      "text/plain": [
       "['year', 'running', 'motor_volume']"
      ]
     },
     "execution_count": 21,
     "metadata": {},
     "output_type": "execute_result"
    }
   ],
   "source": [
    "cont_vars = [var for var in num_vars if var not in discrete_vars]\n",
    "cont_vars\n"
   ]
  },
  {
   "cell_type": "markdown",
   "metadata": {
    "id": "HtIqxAZTjual"
   },
   "source": [
    "# Separamos dataset en train y test"
   ]
  },
  {
   "cell_type": "code",
   "execution_count": 22,
   "metadata": {
    "colab": {
     "base_uri": "https://localhost:8080/"
    },
    "executionInfo": {
     "elapsed": 3,
     "status": "ok",
     "timestamp": 1713466582589,
     "user": {
      "displayName": "Luis Fernando Solis Navarro",
      "userId": "12047414360120813726"
     },
     "user_tz": 180
    },
    "id": "IyIh00Czjual",
    "outputId": "8636edbc-525b-4745-e6d8-9b780c34c84b"
   },
   "outputs": [
    {
     "data": {
      "text/plain": [
       "((1477, 9), (165, 9))"
      ]
     },
     "execution_count": 22,
     "metadata": {},
     "output_type": "execute_result"
    }
   ],
   "source": [
    "X_train, X_test, y_train, y_test = train_test_split(\n",
    "    data.drop(['price'], axis=1), # predictive variables\n",
    "    data['price'], # target\n",
    "    test_size=0.1, # portion of dataset to allocate to test set\n",
    "    random_state=0, # we are setting the seed here\n",
    ")\n",
    "\n",
    "X_train.shape, X_test.shape"
   ]
  },
  {
   "cell_type": "code",
   "execution_count": 31,
   "metadata": {},
   "outputs": [
    {
     "data": {
      "text/plain": [
       "817      8900\n",
       "308     16800\n",
       "1259     4700\n",
       "240     17500\n",
       "1503    17000\n",
       "        ...  \n",
       "763     10000\n",
       "835     33000\n",
       "1216    40000\n",
       "559     15350\n",
       "684     30000\n",
       "Name: price, Length: 1477, dtype: int64"
      ]
     },
     "execution_count": 31,
     "metadata": {},
     "output_type": "execute_result"
    }
   ],
   "source": [
    "y_train"
   ]
  },
  {
   "cell_type": "code",
   "execution_count": 1,
   "metadata": {},
   "outputs": [],
   "source": [
    "# index para yeo \n",
    "#y_train_i = y_train.index\n",
    "#y_test_i = y_test.index"
   ]
  },
  {
   "cell_type": "markdown",
   "metadata": {
    "id": "r9IuG8Tzjual"
   },
   "source": [
    "# Target\n",
    "\n",
    "Aplicamos transformación logaritmica"
   ]
  },
  {
   "cell_type": "code",
   "execution_count": 23,
   "metadata": {
    "id": "EeRskKd0jual"
   },
   "outputs": [],
   "source": [
    "y_train = np.log(y_train)\n",
    "y_test = np.log(y_test)"
   ]
  },
  {
   "cell_type": "markdown",
   "metadata": {},
   "source": [
    "Aplicamos tranformación yeo jhonson"
   ]
  },
  {
   "cell_type": "code",
   "execution_count": 22,
   "metadata": {},
   "outputs": [
    {
     "name": "stdout",
     "output_type": "stream",
     "text": [
      "{'x0': 0.39801520225246706}\n",
      "817      91.251727\n",
      "308     118.226639\n",
      "1259     70.213229\n",
      "240     120.204289\n",
      "1503    118.796664\n",
      "           ...    \n",
      "763      95.702672\n",
      "835     155.445966\n",
      "1216    168.015062\n",
      "559     113.966195\n",
      "684     149.566244\n",
      "Name: x0, Length: 1477, dtype: float64\n"
     ]
    }
   ],
   "source": [
    "tf = YeoJohnsonTransformer()\n",
    "tf.fit(y_train.values.reshape(-1,1))\n",
    "\n",
    "y_train_t = tf.transform(y_train.values.reshape(-1,1))\n",
    "y_test_t = tf.transform(y_test.values.reshape(-1,1))\n",
    "\n",
    "# para convertir a series\n",
    "y_train_yeo=y_train_t.iloc[:,0]\n",
    "y_test_yeo=y_test_t.iloc[:,0]\n",
    "\n",
    "# setendo mismo index q particion original\n",
    "y_train_yeo.index = y_train.index\n",
    "# setendo mismo index q particion original\n",
    "y_test_yeo.index = y_test.index\n",
    "\n",
    "print(tf.lambda_dict_)\n",
    "print(y_train_yeo)"
   ]
  },
  {
   "cell_type": "code",
   "execution_count": 23,
   "metadata": {},
   "outputs": [
    {
     "data": {
      "text/plain": [
       "817      91.251727\n",
       "308     118.226639\n",
       "1259     70.213229\n",
       "240     120.204289\n",
       "1503    118.796664\n",
       "           ...    \n",
       "763      95.702672\n",
       "835     155.445966\n",
       "1216    168.015062\n",
       "559     113.966195\n",
       "684     149.566244\n",
       "Name: x0, Length: 1477, dtype: float64"
      ]
     },
     "execution_count": 23,
     "metadata": {},
     "output_type": "execute_result"
    }
   ],
   "source": [
    "y_train_yeo"
   ]
  },
  {
   "cell_type": "markdown",
   "metadata": {
    "id": "LHY2kbc4jual"
   },
   "source": [
    "# Configuración"
   ]
  },
  {
   "cell_type": "code",
   "execution_count": 24,
   "metadata": {},
   "outputs": [],
   "source": [
    "# Variables temporales\n",
    "TEMPORAL_VARS = ['year']\n",
    "REF_VAR = datetime.datetime.now().year\n",
    "\n",
    "\n",
    "# Variables para tranformaciion yeo \n",
    "NUMERICALS_YEO_VARS = ['running', 'motor_volume', 'year']\n",
    "#NUMERICALS_YEO_VARS = ['year'] # Linear Regression\n",
    "\n",
    "# Variables categoricas para codificar\n",
    "CATEGORICAL_VARS = ['model', 'motor_type', 'color', 'type', 'status']\n",
    "#CATEGORICAL_VARS = ['model']  # Linear Regression\n",
    "\n",
    "# Variables seleccionadas del proceso feature selection\n",
    "FEATURES = [\n",
    "            'model',\n",
    "            'year',\n",
    "            'motor_type',\n",
    "            'running',\n",
    "            'color',\n",
    "            'type',\n",
    "            'status',\n",
    "            'motor_volume',\n",
    "]"
   ]
  },
  {
   "cell_type": "code",
   "execution_count": 25,
   "metadata": {
    "colab": {
     "base_uri": "https://localhost:8080/"
    },
    "executionInfo": {
     "elapsed": 353,
     "status": "ok",
     "timestamp": 1713466588483,
     "user": {
      "displayName": "Luis Fernando Solis Navarro",
      "userId": "12047414360120813726"
     },
     "user_tz": 180
    },
    "id": "9COv0gUTjuam",
    "outputId": "63fc44cd-ee8f-42cf-98fd-d8228948910b"
   },
   "outputs": [
    {
     "data": {
      "text/plain": [
       "((1477, 8), (165, 8))"
      ]
     },
     "execution_count": 25,
     "metadata": {},
     "output_type": "execute_result"
    }
   ],
   "source": [
    "X_train = X_train[FEATURES]\n",
    "X_test = X_test[FEATURES]\n",
    "\n",
    "X_train.shape, X_test.shape"
   ]
  },
  {
   "cell_type": "markdown",
   "metadata": {
    "id": "KU2EK5Hijuam"
   },
   "source": [
    "# Pipeline\n",
    "\n",
    "- Transformación de variables temporales\n",
    "- Yeo-johnson transformación de variables numéricas\n",
    "- Ecoding de variables categoricas\n",
    "- Aplicamos escalamiento\n",
    "- Aplicamos modelo LGBMRegressor"
   ]
  },
  {
   "cell_type": "code",
   "execution_count": 26,
   "metadata": {},
   "outputs": [],
   "source": [
    "X_train[CATEGORICAL_VARS] = X_train[CATEGORICAL_VARS].astype('category')"
   ]
  },
  {
   "cell_type": "code",
   "execution_count": 27,
   "metadata": {},
   "outputs": [],
   "source": [
    "pipeline = Pipeline([\n",
    "\n",
    "    # TEMPORAL VARIABLES\n",
    "    ('calculated_time', pp.TemporalVariableTransformer(\n",
    "        variables=TEMPORAL_VARS, reference_variable=REF_VAR)),\n",
    "    #('drop_features', DropFeatures(features_to_drop=[REF_VAR])),\n",
    "\n",
    "    # VARIABLE TRANSFORMATION\n",
    "     ('yeojohnson', YeoJohnsonTransformer(variables=NUMERICALS_YEO_VARS)),\n",
    "     #('log', LogTransformer(variables=NUMERICALS_YEO_VARS)),\n",
    "        \n",
    "     # CATEGORICAL ENCODING\n",
    "    ('categorical_encoder', OrdinalEncoder(\n",
    "        encoding_method='ordered', variables=CATEGORICAL_VARS)),\n",
    "        \n",
    "    # ESCALAMIENTO\n",
    "    ('scaler', MinMaxScaler()),\n",
    "\n",
    "    # MODELO\n",
    "    #('Model', LinearRegression()),\n",
    "    #('Lasso', Lasso(alpha=0.001, random_state=0)),\n",
    "    ('model', LGBMRegressor())\n",
    "])"
   ]
  },
  {
   "cell_type": "markdown",
   "metadata": {},
   "source": [
    "**Usando y_train con tranformación logarítmica**"
   ]
  },
  {
   "cell_type": "code",
   "execution_count": 28,
   "metadata": {
    "colab": {
     "base_uri": "https://localhost:8080/",
     "height": 878
    },
    "executionInfo": {
     "elapsed": 264,
     "status": "ok",
     "timestamp": 1713466590280,
     "user": {
      "displayName": "Luis Fernando Solis Navarro",
      "userId": "12047414360120813726"
     },
     "user_tz": 180
    },
    "id": "DaP1mhjHjuam",
    "outputId": "005bd183-2cc4-42cb-d923-87f9df2226d9"
   },
   "outputs": [
    {
     "name": "stdout",
     "output_type": "stream",
     "text": [
      "[LightGBM] [Info] Auto-choosing row-wise multi-threading, the overhead of testing was 0.000291 seconds.\n",
      "You can set `force_row_wise=true` to remove the overhead.\n",
      "And if memory is not enough, you can set `force_col_wise=true`.\n",
      "[LightGBM] [Info] Total Bins 334\n",
      "[LightGBM] [Info] Number of data points in the train set: 1477, number of used features: 8\n",
      "[LightGBM] [Info] Start training from score 9.572343\n"
     ]
    },
    {
     "data": {
      "text/html": [
       "<style>#sk-container-id-1 {\n",
       "  /* Definition of color scheme common for light and dark mode */\n",
       "  --sklearn-color-text: black;\n",
       "  --sklearn-color-line: gray;\n",
       "  /* Definition of color scheme for unfitted estimators */\n",
       "  --sklearn-color-unfitted-level-0: #fff5e6;\n",
       "  --sklearn-color-unfitted-level-1: #f6e4d2;\n",
       "  --sklearn-color-unfitted-level-2: #ffe0b3;\n",
       "  --sklearn-color-unfitted-level-3: chocolate;\n",
       "  /* Definition of color scheme for fitted estimators */\n",
       "  --sklearn-color-fitted-level-0: #f0f8ff;\n",
       "  --sklearn-color-fitted-level-1: #d4ebff;\n",
       "  --sklearn-color-fitted-level-2: #b3dbfd;\n",
       "  --sklearn-color-fitted-level-3: cornflowerblue;\n",
       "\n",
       "  /* Specific color for light theme */\n",
       "  --sklearn-color-text-on-default-background: var(--sg-text-color, var(--theme-code-foreground, var(--jp-content-font-color1, black)));\n",
       "  --sklearn-color-background: var(--sg-background-color, var(--theme-background, var(--jp-layout-color0, white)));\n",
       "  --sklearn-color-border-box: var(--sg-text-color, var(--theme-code-foreground, var(--jp-content-font-color1, black)));\n",
       "  --sklearn-color-icon: #696969;\n",
       "\n",
       "  @media (prefers-color-scheme: dark) {\n",
       "    /* Redefinition of color scheme for dark theme */\n",
       "    --sklearn-color-text-on-default-background: var(--sg-text-color, var(--theme-code-foreground, var(--jp-content-font-color1, white)));\n",
       "    --sklearn-color-background: var(--sg-background-color, var(--theme-background, var(--jp-layout-color0, #111)));\n",
       "    --sklearn-color-border-box: var(--sg-text-color, var(--theme-code-foreground, var(--jp-content-font-color1, white)));\n",
       "    --sklearn-color-icon: #878787;\n",
       "  }\n",
       "}\n",
       "\n",
       "#sk-container-id-1 {\n",
       "  color: var(--sklearn-color-text);\n",
       "}\n",
       "\n",
       "#sk-container-id-1 pre {\n",
       "  padding: 0;\n",
       "}\n",
       "\n",
       "#sk-container-id-1 input.sk-hidden--visually {\n",
       "  border: 0;\n",
       "  clip: rect(1px 1px 1px 1px);\n",
       "  clip: rect(1px, 1px, 1px, 1px);\n",
       "  height: 1px;\n",
       "  margin: -1px;\n",
       "  overflow: hidden;\n",
       "  padding: 0;\n",
       "  position: absolute;\n",
       "  width: 1px;\n",
       "}\n",
       "\n",
       "#sk-container-id-1 div.sk-dashed-wrapped {\n",
       "  border: 1px dashed var(--sklearn-color-line);\n",
       "  margin: 0 0.4em 0.5em 0.4em;\n",
       "  box-sizing: border-box;\n",
       "  padding-bottom: 0.4em;\n",
       "  background-color: var(--sklearn-color-background);\n",
       "}\n",
       "\n",
       "#sk-container-id-1 div.sk-container {\n",
       "  /* jupyter's `normalize.less` sets `[hidden] { display: none; }`\n",
       "     but bootstrap.min.css set `[hidden] { display: none !important; }`\n",
       "     so we also need the `!important` here to be able to override the\n",
       "     default hidden behavior on the sphinx rendered scikit-learn.org.\n",
       "     See: https://github.com/scikit-learn/scikit-learn/issues/21755 */\n",
       "  display: inline-block !important;\n",
       "  position: relative;\n",
       "}\n",
       "\n",
       "#sk-container-id-1 div.sk-text-repr-fallback {\n",
       "  display: none;\n",
       "}\n",
       "\n",
       "div.sk-parallel-item,\n",
       "div.sk-serial,\n",
       "div.sk-item {\n",
       "  /* draw centered vertical line to link estimators */\n",
       "  background-image: linear-gradient(var(--sklearn-color-text-on-default-background), var(--sklearn-color-text-on-default-background));\n",
       "  background-size: 2px 100%;\n",
       "  background-repeat: no-repeat;\n",
       "  background-position: center center;\n",
       "}\n",
       "\n",
       "/* Parallel-specific style estimator block */\n",
       "\n",
       "#sk-container-id-1 div.sk-parallel-item::after {\n",
       "  content: \"\";\n",
       "  width: 100%;\n",
       "  border-bottom: 2px solid var(--sklearn-color-text-on-default-background);\n",
       "  flex-grow: 1;\n",
       "}\n",
       "\n",
       "#sk-container-id-1 div.sk-parallel {\n",
       "  display: flex;\n",
       "  align-items: stretch;\n",
       "  justify-content: center;\n",
       "  background-color: var(--sklearn-color-background);\n",
       "  position: relative;\n",
       "}\n",
       "\n",
       "#sk-container-id-1 div.sk-parallel-item {\n",
       "  display: flex;\n",
       "  flex-direction: column;\n",
       "}\n",
       "\n",
       "#sk-container-id-1 div.sk-parallel-item:first-child::after {\n",
       "  align-self: flex-end;\n",
       "  width: 50%;\n",
       "}\n",
       "\n",
       "#sk-container-id-1 div.sk-parallel-item:last-child::after {\n",
       "  align-self: flex-start;\n",
       "  width: 50%;\n",
       "}\n",
       "\n",
       "#sk-container-id-1 div.sk-parallel-item:only-child::after {\n",
       "  width: 0;\n",
       "}\n",
       "\n",
       "/* Serial-specific style estimator block */\n",
       "\n",
       "#sk-container-id-1 div.sk-serial {\n",
       "  display: flex;\n",
       "  flex-direction: column;\n",
       "  align-items: center;\n",
       "  background-color: var(--sklearn-color-background);\n",
       "  padding-right: 1em;\n",
       "  padding-left: 1em;\n",
       "}\n",
       "\n",
       "\n",
       "/* Toggleable style: style used for estimator/Pipeline/ColumnTransformer box that is\n",
       "clickable and can be expanded/collapsed.\n",
       "- Pipeline and ColumnTransformer use this feature and define the default style\n",
       "- Estimators will overwrite some part of the style using the `sk-estimator` class\n",
       "*/\n",
       "\n",
       "/* Pipeline and ColumnTransformer style (default) */\n",
       "\n",
       "#sk-container-id-1 div.sk-toggleable {\n",
       "  /* Default theme specific background. It is overwritten whether we have a\n",
       "  specific estimator or a Pipeline/ColumnTransformer */\n",
       "  background-color: var(--sklearn-color-background);\n",
       "}\n",
       "\n",
       "/* Toggleable label */\n",
       "#sk-container-id-1 label.sk-toggleable__label {\n",
       "  cursor: pointer;\n",
       "  display: block;\n",
       "  width: 100%;\n",
       "  margin-bottom: 0;\n",
       "  padding: 0.5em;\n",
       "  box-sizing: border-box;\n",
       "  text-align: center;\n",
       "}\n",
       "\n",
       "#sk-container-id-1 label.sk-toggleable__label-arrow:before {\n",
       "  /* Arrow on the left of the label */\n",
       "  content: \"▸\";\n",
       "  float: left;\n",
       "  margin-right: 0.25em;\n",
       "  color: var(--sklearn-color-icon);\n",
       "}\n",
       "\n",
       "#sk-container-id-1 label.sk-toggleable__label-arrow:hover:before {\n",
       "  color: var(--sklearn-color-text);\n",
       "}\n",
       "\n",
       "/* Toggleable content - dropdown */\n",
       "\n",
       "#sk-container-id-1 div.sk-toggleable__content {\n",
       "  max-height: 0;\n",
       "  max-width: 0;\n",
       "  overflow: hidden;\n",
       "  text-align: left;\n",
       "  /* unfitted */\n",
       "  background-color: var(--sklearn-color-unfitted-level-0);\n",
       "}\n",
       "\n",
       "#sk-container-id-1 div.sk-toggleable__content.fitted {\n",
       "  /* fitted */\n",
       "  background-color: var(--sklearn-color-fitted-level-0);\n",
       "}\n",
       "\n",
       "#sk-container-id-1 div.sk-toggleable__content pre {\n",
       "  margin: 0.2em;\n",
       "  border-radius: 0.25em;\n",
       "  color: var(--sklearn-color-text);\n",
       "  /* unfitted */\n",
       "  background-color: var(--sklearn-color-unfitted-level-0);\n",
       "}\n",
       "\n",
       "#sk-container-id-1 div.sk-toggleable__content.fitted pre {\n",
       "  /* unfitted */\n",
       "  background-color: var(--sklearn-color-fitted-level-0);\n",
       "}\n",
       "\n",
       "#sk-container-id-1 input.sk-toggleable__control:checked~div.sk-toggleable__content {\n",
       "  /* Expand drop-down */\n",
       "  max-height: 200px;\n",
       "  max-width: 100%;\n",
       "  overflow: auto;\n",
       "}\n",
       "\n",
       "#sk-container-id-1 input.sk-toggleable__control:checked~label.sk-toggleable__label-arrow:before {\n",
       "  content: \"▾\";\n",
       "}\n",
       "\n",
       "/* Pipeline/ColumnTransformer-specific style */\n",
       "\n",
       "#sk-container-id-1 div.sk-label input.sk-toggleable__control:checked~label.sk-toggleable__label {\n",
       "  color: var(--sklearn-color-text);\n",
       "  background-color: var(--sklearn-color-unfitted-level-2);\n",
       "}\n",
       "\n",
       "#sk-container-id-1 div.sk-label.fitted input.sk-toggleable__control:checked~label.sk-toggleable__label {\n",
       "  background-color: var(--sklearn-color-fitted-level-2);\n",
       "}\n",
       "\n",
       "/* Estimator-specific style */\n",
       "\n",
       "/* Colorize estimator box */\n",
       "#sk-container-id-1 div.sk-estimator input.sk-toggleable__control:checked~label.sk-toggleable__label {\n",
       "  /* unfitted */\n",
       "  background-color: var(--sklearn-color-unfitted-level-2);\n",
       "}\n",
       "\n",
       "#sk-container-id-1 div.sk-estimator.fitted input.sk-toggleable__control:checked~label.sk-toggleable__label {\n",
       "  /* fitted */\n",
       "  background-color: var(--sklearn-color-fitted-level-2);\n",
       "}\n",
       "\n",
       "#sk-container-id-1 div.sk-label label.sk-toggleable__label,\n",
       "#sk-container-id-1 div.sk-label label {\n",
       "  /* The background is the default theme color */\n",
       "  color: var(--sklearn-color-text-on-default-background);\n",
       "}\n",
       "\n",
       "/* On hover, darken the color of the background */\n",
       "#sk-container-id-1 div.sk-label:hover label.sk-toggleable__label {\n",
       "  color: var(--sklearn-color-text);\n",
       "  background-color: var(--sklearn-color-unfitted-level-2);\n",
       "}\n",
       "\n",
       "/* Label box, darken color on hover, fitted */\n",
       "#sk-container-id-1 div.sk-label.fitted:hover label.sk-toggleable__label.fitted {\n",
       "  color: var(--sklearn-color-text);\n",
       "  background-color: var(--sklearn-color-fitted-level-2);\n",
       "}\n",
       "\n",
       "/* Estimator label */\n",
       "\n",
       "#sk-container-id-1 div.sk-label label {\n",
       "  font-family: monospace;\n",
       "  font-weight: bold;\n",
       "  display: inline-block;\n",
       "  line-height: 1.2em;\n",
       "}\n",
       "\n",
       "#sk-container-id-1 div.sk-label-container {\n",
       "  text-align: center;\n",
       "}\n",
       "\n",
       "/* Estimator-specific */\n",
       "#sk-container-id-1 div.sk-estimator {\n",
       "  font-family: monospace;\n",
       "  border: 1px dotted var(--sklearn-color-border-box);\n",
       "  border-radius: 0.25em;\n",
       "  box-sizing: border-box;\n",
       "  margin-bottom: 0.5em;\n",
       "  /* unfitted */\n",
       "  background-color: var(--sklearn-color-unfitted-level-0);\n",
       "}\n",
       "\n",
       "#sk-container-id-1 div.sk-estimator.fitted {\n",
       "  /* fitted */\n",
       "  background-color: var(--sklearn-color-fitted-level-0);\n",
       "}\n",
       "\n",
       "/* on hover */\n",
       "#sk-container-id-1 div.sk-estimator:hover {\n",
       "  /* unfitted */\n",
       "  background-color: var(--sklearn-color-unfitted-level-2);\n",
       "}\n",
       "\n",
       "#sk-container-id-1 div.sk-estimator.fitted:hover {\n",
       "  /* fitted */\n",
       "  background-color: var(--sklearn-color-fitted-level-2);\n",
       "}\n",
       "\n",
       "/* Specification for estimator info (e.g. \"i\" and \"?\") */\n",
       "\n",
       "/* Common style for \"i\" and \"?\" */\n",
       "\n",
       ".sk-estimator-doc-link,\n",
       "a:link.sk-estimator-doc-link,\n",
       "a:visited.sk-estimator-doc-link {\n",
       "  float: right;\n",
       "  font-size: smaller;\n",
       "  line-height: 1em;\n",
       "  font-family: monospace;\n",
       "  background-color: var(--sklearn-color-background);\n",
       "  border-radius: 1em;\n",
       "  height: 1em;\n",
       "  width: 1em;\n",
       "  text-decoration: none !important;\n",
       "  margin-left: 1ex;\n",
       "  /* unfitted */\n",
       "  border: var(--sklearn-color-unfitted-level-1) 1pt solid;\n",
       "  color: var(--sklearn-color-unfitted-level-1);\n",
       "}\n",
       "\n",
       ".sk-estimator-doc-link.fitted,\n",
       "a:link.sk-estimator-doc-link.fitted,\n",
       "a:visited.sk-estimator-doc-link.fitted {\n",
       "  /* fitted */\n",
       "  border: var(--sklearn-color-fitted-level-1) 1pt solid;\n",
       "  color: var(--sklearn-color-fitted-level-1);\n",
       "}\n",
       "\n",
       "/* On hover */\n",
       "div.sk-estimator:hover .sk-estimator-doc-link:hover,\n",
       ".sk-estimator-doc-link:hover,\n",
       "div.sk-label-container:hover .sk-estimator-doc-link:hover,\n",
       ".sk-estimator-doc-link:hover {\n",
       "  /* unfitted */\n",
       "  background-color: var(--sklearn-color-unfitted-level-3);\n",
       "  color: var(--sklearn-color-background);\n",
       "  text-decoration: none;\n",
       "}\n",
       "\n",
       "div.sk-estimator.fitted:hover .sk-estimator-doc-link.fitted:hover,\n",
       ".sk-estimator-doc-link.fitted:hover,\n",
       "div.sk-label-container:hover .sk-estimator-doc-link.fitted:hover,\n",
       ".sk-estimator-doc-link.fitted:hover {\n",
       "  /* fitted */\n",
       "  background-color: var(--sklearn-color-fitted-level-3);\n",
       "  color: var(--sklearn-color-background);\n",
       "  text-decoration: none;\n",
       "}\n",
       "\n",
       "/* Span, style for the box shown on hovering the info icon */\n",
       ".sk-estimator-doc-link span {\n",
       "  display: none;\n",
       "  z-index: 9999;\n",
       "  position: relative;\n",
       "  font-weight: normal;\n",
       "  right: .2ex;\n",
       "  padding: .5ex;\n",
       "  margin: .5ex;\n",
       "  width: min-content;\n",
       "  min-width: 20ex;\n",
       "  max-width: 50ex;\n",
       "  color: var(--sklearn-color-text);\n",
       "  box-shadow: 2pt 2pt 4pt #999;\n",
       "  /* unfitted */\n",
       "  background: var(--sklearn-color-unfitted-level-0);\n",
       "  border: .5pt solid var(--sklearn-color-unfitted-level-3);\n",
       "}\n",
       "\n",
       ".sk-estimator-doc-link.fitted span {\n",
       "  /* fitted */\n",
       "  background: var(--sklearn-color-fitted-level-0);\n",
       "  border: var(--sklearn-color-fitted-level-3);\n",
       "}\n",
       "\n",
       ".sk-estimator-doc-link:hover span {\n",
       "  display: block;\n",
       "}\n",
       "\n",
       "/* \"?\"-specific style due to the `<a>` HTML tag */\n",
       "\n",
       "#sk-container-id-1 a.estimator_doc_link {\n",
       "  float: right;\n",
       "  font-size: 1rem;\n",
       "  line-height: 1em;\n",
       "  font-family: monospace;\n",
       "  background-color: var(--sklearn-color-background);\n",
       "  border-radius: 1rem;\n",
       "  height: 1rem;\n",
       "  width: 1rem;\n",
       "  text-decoration: none;\n",
       "  /* unfitted */\n",
       "  color: var(--sklearn-color-unfitted-level-1);\n",
       "  border: var(--sklearn-color-unfitted-level-1) 1pt solid;\n",
       "}\n",
       "\n",
       "#sk-container-id-1 a.estimator_doc_link.fitted {\n",
       "  /* fitted */\n",
       "  border: var(--sklearn-color-fitted-level-1) 1pt solid;\n",
       "  color: var(--sklearn-color-fitted-level-1);\n",
       "}\n",
       "\n",
       "/* On hover */\n",
       "#sk-container-id-1 a.estimator_doc_link:hover {\n",
       "  /* unfitted */\n",
       "  background-color: var(--sklearn-color-unfitted-level-3);\n",
       "  color: var(--sklearn-color-background);\n",
       "  text-decoration: none;\n",
       "}\n",
       "\n",
       "#sk-container-id-1 a.estimator_doc_link.fitted:hover {\n",
       "  /* fitted */\n",
       "  background-color: var(--sklearn-color-fitted-level-3);\n",
       "}\n",
       "</style><div id=\"sk-container-id-1\" class=\"sk-top-container\"><div class=\"sk-text-repr-fallback\"><pre>Pipeline(steps=[(&#x27;calculated_time&#x27;,\n",
       "                 TemporalVariableTransformer(reference_variable=2024,\n",
       "                                             variables=[&#x27;year&#x27;])),\n",
       "                (&#x27;yeojohnson&#x27;,\n",
       "                 YeoJohnsonTransformer(variables=[&#x27;running&#x27;, &#x27;motor_volume&#x27;,\n",
       "                                                  &#x27;year&#x27;])),\n",
       "                (&#x27;categorical_encoder&#x27;,\n",
       "                 OrdinalEncoder(variables=[&#x27;model&#x27;, &#x27;motor_type&#x27;, &#x27;color&#x27;,\n",
       "                                           &#x27;type&#x27;, &#x27;status&#x27;])),\n",
       "                (&#x27;scaler&#x27;, MinMaxScaler()), (&#x27;model&#x27;, LGBMRegressor())])</pre><b>In a Jupyter environment, please rerun this cell to show the HTML representation or trust the notebook. <br />On GitHub, the HTML representation is unable to render, please try loading this page with nbviewer.org.</b></div><div class=\"sk-container\" hidden><div class=\"sk-item sk-dashed-wrapped\"><div class=\"sk-label-container\"><div class=\"sk-label fitted sk-toggleable\"><input class=\"sk-toggleable__control sk-hidden--visually\" id=\"sk-estimator-id-1\" type=\"checkbox\" ><label for=\"sk-estimator-id-1\" class=\"sk-toggleable__label fitted sk-toggleable__label-arrow fitted\">&nbsp;&nbsp;Pipeline<a class=\"sk-estimator-doc-link fitted\" rel=\"noreferrer\" target=\"_blank\" href=\"https://scikit-learn.org/1.5/modules/generated/sklearn.pipeline.Pipeline.html\">?<span>Documentation for Pipeline</span></a><span class=\"sk-estimator-doc-link fitted\">i<span>Fitted</span></span></label><div class=\"sk-toggleable__content fitted\"><pre>Pipeline(steps=[(&#x27;calculated_time&#x27;,\n",
       "                 TemporalVariableTransformer(reference_variable=2024,\n",
       "                                             variables=[&#x27;year&#x27;])),\n",
       "                (&#x27;yeojohnson&#x27;,\n",
       "                 YeoJohnsonTransformer(variables=[&#x27;running&#x27;, &#x27;motor_volume&#x27;,\n",
       "                                                  &#x27;year&#x27;])),\n",
       "                (&#x27;categorical_encoder&#x27;,\n",
       "                 OrdinalEncoder(variables=[&#x27;model&#x27;, &#x27;motor_type&#x27;, &#x27;color&#x27;,\n",
       "                                           &#x27;type&#x27;, &#x27;status&#x27;])),\n",
       "                (&#x27;scaler&#x27;, MinMaxScaler()), (&#x27;model&#x27;, LGBMRegressor())])</pre></div> </div></div><div class=\"sk-serial\"><div class=\"sk-item\"><div class=\"sk-estimator fitted sk-toggleable\"><input class=\"sk-toggleable__control sk-hidden--visually\" id=\"sk-estimator-id-2\" type=\"checkbox\" ><label for=\"sk-estimator-id-2\" class=\"sk-toggleable__label fitted sk-toggleable__label-arrow fitted\">TemporalVariableTransformer</label><div class=\"sk-toggleable__content fitted\"><pre>TemporalVariableTransformer(reference_variable=2024, variables=[&#x27;year&#x27;])</pre></div> </div></div><div class=\"sk-item\"><div class=\"sk-estimator fitted sk-toggleable\"><input class=\"sk-toggleable__control sk-hidden--visually\" id=\"sk-estimator-id-3\" type=\"checkbox\" ><label for=\"sk-estimator-id-3\" class=\"sk-toggleable__label fitted sk-toggleable__label-arrow fitted\">YeoJohnsonTransformer</label><div class=\"sk-toggleable__content fitted\"><pre>YeoJohnsonTransformer(variables=[&#x27;running&#x27;, &#x27;motor_volume&#x27;, &#x27;year&#x27;])</pre></div> </div></div><div class=\"sk-item\"><div class=\"sk-estimator fitted sk-toggleable\"><input class=\"sk-toggleable__control sk-hidden--visually\" id=\"sk-estimator-id-4\" type=\"checkbox\" ><label for=\"sk-estimator-id-4\" class=\"sk-toggleable__label fitted sk-toggleable__label-arrow fitted\">OrdinalEncoder</label><div class=\"sk-toggleable__content fitted\"><pre>OrdinalEncoder(variables=[&#x27;model&#x27;, &#x27;motor_type&#x27;, &#x27;color&#x27;, &#x27;type&#x27;, &#x27;status&#x27;])</pre></div> </div></div><div class=\"sk-item\"><div class=\"sk-estimator fitted sk-toggleable\"><input class=\"sk-toggleable__control sk-hidden--visually\" id=\"sk-estimator-id-5\" type=\"checkbox\" ><label for=\"sk-estimator-id-5\" class=\"sk-toggleable__label fitted sk-toggleable__label-arrow fitted\">&nbsp;MinMaxScaler<a class=\"sk-estimator-doc-link fitted\" rel=\"noreferrer\" target=\"_blank\" href=\"https://scikit-learn.org/1.5/modules/generated/sklearn.preprocessing.MinMaxScaler.html\">?<span>Documentation for MinMaxScaler</span></a></label><div class=\"sk-toggleable__content fitted\"><pre>MinMaxScaler()</pre></div> </div></div><div class=\"sk-item\"><div class=\"sk-estimator fitted sk-toggleable\"><input class=\"sk-toggleable__control sk-hidden--visually\" id=\"sk-estimator-id-6\" type=\"checkbox\" ><label for=\"sk-estimator-id-6\" class=\"sk-toggleable__label fitted sk-toggleable__label-arrow fitted\">LGBMRegressor</label><div class=\"sk-toggleable__content fitted\"><pre>LGBMRegressor()</pre></div> </div></div></div></div></div></div>"
      ],
      "text/plain": [
       "Pipeline(steps=[('calculated_time',\n",
       "                 TemporalVariableTransformer(reference_variable=2024,\n",
       "                                             variables=['year'])),\n",
       "                ('yeojohnson',\n",
       "                 YeoJohnsonTransformer(variables=['running', 'motor_volume',\n",
       "                                                  'year'])),\n",
       "                ('categorical_encoder',\n",
       "                 OrdinalEncoder(variables=['model', 'motor_type', 'color',\n",
       "                                           'type', 'status'])),\n",
       "                ('scaler', MinMaxScaler()), ('model', LGBMRegressor())])"
      ]
     },
     "execution_count": 28,
     "metadata": {},
     "output_type": "execute_result"
    }
   ],
   "source": [
    "pipeline.fit(X_train, y_train)"
   ]
  },
  {
   "cell_type": "code",
   "execution_count": 77,
   "metadata": {},
   "outputs": [],
   "source": [
    "#X_train = pipeline.transform(X_train)\n",
    "#X_test = pipeline.transform(X_test)"
   ]
  },
  {
   "cell_type": "code",
   "execution_count": 29,
   "metadata": {
    "colab": {
     "base_uri": "https://localhost:8080/"
    },
    "executionInfo": {
     "elapsed": 243,
     "status": "ok",
     "timestamp": 1713466593110,
     "user": {
      "displayName": "Luis Fernando Solis Navarro",
      "userId": "12047414360120813726"
     },
     "user_tz": 180
    },
    "id": "qE2HJiSqjuam",
    "outputId": "49c74c19-0d2c-4a61-8ee8-05b516ee6b9b"
   },
   "outputs": [
    {
     "name": "stdout",
     "output_type": "stream",
     "text": [
      "train mse: 7545437\n",
      "train rmse: 2746\n",
      "train r2: 0.8567111175398352\n",
      "\n",
      "test mse: 8128600\n",
      "test rmse: 2851\n",
      "test r2: 0.800045252139499\n",
      "\n",
      "Precio del coche promedio:  15700\n"
     ]
    },
    {
     "name": "stderr",
     "output_type": "stream",
     "text": [
      "c:\\Users\\cmatos\\AppData\\Local\\anaconda3\\envs\\env-mlops\\lib\\site-packages\\sklearn\\metrics\\_regression.py:492: FutureWarning: 'squared' is deprecated in version 1.4 and will be removed in 1.6. To calculate the root mean squared error, use the function'root_mean_squared_error'.\n",
      "  warnings.warn(\n",
      "c:\\Users\\cmatos\\AppData\\Local\\anaconda3\\envs\\env-mlops\\lib\\site-packages\\sklearn\\metrics\\_regression.py:492: FutureWarning: 'squared' is deprecated in version 1.4 and will be removed in 1.6. To calculate the root mean squared error, use the function'root_mean_squared_error'.\n",
      "  warnings.warn(\n"
     ]
    }
   ],
   "source": [
    "pred = pipeline.predict(X_train)\n",
    "\n",
    "# mse, rmse y r2 del X_train\n",
    "print('train mse: {}'.format(int(\n",
    "    mean_squared_error(np.exp(y_train), np.exp(pred)))))\n",
    "print('train rmse: {}'.format(int(\n",
    "    mean_squared_error(np.exp(y_train), np.exp(pred), squared=False))))\n",
    "print('train r2: {}'.format(\n",
    "    r2_score(np.exp(y_train), np.exp(pred))))\n",
    "print()\n",
    "\n",
    "# predicciones con dataset test\n",
    "pred = pipeline.predict(X_test)\n",
    "\n",
    "# mse, rmse y r2 del X_test\n",
    "print('test mse: {}'.format(int(\n",
    "    mean_squared_error(np.exp(y_test), np.exp(pred)))))\n",
    "print('test rmse: {}'.format(int(\n",
    "    mean_squared_error(np.exp(y_test), np.exp(pred), squared=False))))\n",
    "print('test r2: {}'.format(\n",
    "    r2_score(np.exp(y_test), np.exp(pred))))\n",
    "print()\n",
    "\n",
    "print('Precio del coche promedio: ', int(np.exp(y_train).median()))"
   ]
  },
  {
   "cell_type": "code",
   "execution_count": 30,
   "metadata": {},
   "outputs": [
    {
     "data": {
      "text/plain": [
       "['./Output/precio_coches_pipeline.joblib']"
      ]
     },
     "execution_count": 30,
     "metadata": {},
     "output_type": "execute_result"
    }
   ],
   "source": [
    "# guardamos pipeline\n",
    "joblib.dump(pipeline, './Output/precio_coches_pipeline.joblib')"
   ]
  },
  {
   "cell_type": "markdown",
   "metadata": {},
   "source": [
    "Usando y_train y y_test con transformacion yeo"
   ]
  },
  {
   "cell_type": "code",
   "execution_count": 28,
   "metadata": {},
   "outputs": [
    {
     "name": "stdout",
     "output_type": "stream",
     "text": [
      "[LightGBM] [Info] Auto-choosing col-wise multi-threading, the overhead of testing was 0.000297 seconds.\n",
      "You can set `force_col_wise=true` to remove the overhead.\n",
      "[LightGBM] [Info] Total Bins 334\n",
      "[LightGBM] [Info] Number of data points in the train set: 1477, number of used features: 8\n",
      "[LightGBM] [Info] Start training from score 112.929891\n"
     ]
    },
    {
     "data": {
      "text/html": [
       "<style>#sk-container-id-2 {\n",
       "  /* Definition of color scheme common for light and dark mode */\n",
       "  --sklearn-color-text: black;\n",
       "  --sklearn-color-line: gray;\n",
       "  /* Definition of color scheme for unfitted estimators */\n",
       "  --sklearn-color-unfitted-level-0: #fff5e6;\n",
       "  --sklearn-color-unfitted-level-1: #f6e4d2;\n",
       "  --sklearn-color-unfitted-level-2: #ffe0b3;\n",
       "  --sklearn-color-unfitted-level-3: chocolate;\n",
       "  /* Definition of color scheme for fitted estimators */\n",
       "  --sklearn-color-fitted-level-0: #f0f8ff;\n",
       "  --sklearn-color-fitted-level-1: #d4ebff;\n",
       "  --sklearn-color-fitted-level-2: #b3dbfd;\n",
       "  --sklearn-color-fitted-level-3: cornflowerblue;\n",
       "\n",
       "  /* Specific color for light theme */\n",
       "  --sklearn-color-text-on-default-background: var(--sg-text-color, var(--theme-code-foreground, var(--jp-content-font-color1, black)));\n",
       "  --sklearn-color-background: var(--sg-background-color, var(--theme-background, var(--jp-layout-color0, white)));\n",
       "  --sklearn-color-border-box: var(--sg-text-color, var(--theme-code-foreground, var(--jp-content-font-color1, black)));\n",
       "  --sklearn-color-icon: #696969;\n",
       "\n",
       "  @media (prefers-color-scheme: dark) {\n",
       "    /* Redefinition of color scheme for dark theme */\n",
       "    --sklearn-color-text-on-default-background: var(--sg-text-color, var(--theme-code-foreground, var(--jp-content-font-color1, white)));\n",
       "    --sklearn-color-background: var(--sg-background-color, var(--theme-background, var(--jp-layout-color0, #111)));\n",
       "    --sklearn-color-border-box: var(--sg-text-color, var(--theme-code-foreground, var(--jp-content-font-color1, white)));\n",
       "    --sklearn-color-icon: #878787;\n",
       "  }\n",
       "}\n",
       "\n",
       "#sk-container-id-2 {\n",
       "  color: var(--sklearn-color-text);\n",
       "}\n",
       "\n",
       "#sk-container-id-2 pre {\n",
       "  padding: 0;\n",
       "}\n",
       "\n",
       "#sk-container-id-2 input.sk-hidden--visually {\n",
       "  border: 0;\n",
       "  clip: rect(1px 1px 1px 1px);\n",
       "  clip: rect(1px, 1px, 1px, 1px);\n",
       "  height: 1px;\n",
       "  margin: -1px;\n",
       "  overflow: hidden;\n",
       "  padding: 0;\n",
       "  position: absolute;\n",
       "  width: 1px;\n",
       "}\n",
       "\n",
       "#sk-container-id-2 div.sk-dashed-wrapped {\n",
       "  border: 1px dashed var(--sklearn-color-line);\n",
       "  margin: 0 0.4em 0.5em 0.4em;\n",
       "  box-sizing: border-box;\n",
       "  padding-bottom: 0.4em;\n",
       "  background-color: var(--sklearn-color-background);\n",
       "}\n",
       "\n",
       "#sk-container-id-2 div.sk-container {\n",
       "  /* jupyter's `normalize.less` sets `[hidden] { display: none; }`\n",
       "     but bootstrap.min.css set `[hidden] { display: none !important; }`\n",
       "     so we also need the `!important` here to be able to override the\n",
       "     default hidden behavior on the sphinx rendered scikit-learn.org.\n",
       "     See: https://github.com/scikit-learn/scikit-learn/issues/21755 */\n",
       "  display: inline-block !important;\n",
       "  position: relative;\n",
       "}\n",
       "\n",
       "#sk-container-id-2 div.sk-text-repr-fallback {\n",
       "  display: none;\n",
       "}\n",
       "\n",
       "div.sk-parallel-item,\n",
       "div.sk-serial,\n",
       "div.sk-item {\n",
       "  /* draw centered vertical line to link estimators */\n",
       "  background-image: linear-gradient(var(--sklearn-color-text-on-default-background), var(--sklearn-color-text-on-default-background));\n",
       "  background-size: 2px 100%;\n",
       "  background-repeat: no-repeat;\n",
       "  background-position: center center;\n",
       "}\n",
       "\n",
       "/* Parallel-specific style estimator block */\n",
       "\n",
       "#sk-container-id-2 div.sk-parallel-item::after {\n",
       "  content: \"\";\n",
       "  width: 100%;\n",
       "  border-bottom: 2px solid var(--sklearn-color-text-on-default-background);\n",
       "  flex-grow: 1;\n",
       "}\n",
       "\n",
       "#sk-container-id-2 div.sk-parallel {\n",
       "  display: flex;\n",
       "  align-items: stretch;\n",
       "  justify-content: center;\n",
       "  background-color: var(--sklearn-color-background);\n",
       "  position: relative;\n",
       "}\n",
       "\n",
       "#sk-container-id-2 div.sk-parallel-item {\n",
       "  display: flex;\n",
       "  flex-direction: column;\n",
       "}\n",
       "\n",
       "#sk-container-id-2 div.sk-parallel-item:first-child::after {\n",
       "  align-self: flex-end;\n",
       "  width: 50%;\n",
       "}\n",
       "\n",
       "#sk-container-id-2 div.sk-parallel-item:last-child::after {\n",
       "  align-self: flex-start;\n",
       "  width: 50%;\n",
       "}\n",
       "\n",
       "#sk-container-id-2 div.sk-parallel-item:only-child::after {\n",
       "  width: 0;\n",
       "}\n",
       "\n",
       "/* Serial-specific style estimator block */\n",
       "\n",
       "#sk-container-id-2 div.sk-serial {\n",
       "  display: flex;\n",
       "  flex-direction: column;\n",
       "  align-items: center;\n",
       "  background-color: var(--sklearn-color-background);\n",
       "  padding-right: 1em;\n",
       "  padding-left: 1em;\n",
       "}\n",
       "\n",
       "\n",
       "/* Toggleable style: style used for estimator/Pipeline/ColumnTransformer box that is\n",
       "clickable and can be expanded/collapsed.\n",
       "- Pipeline and ColumnTransformer use this feature and define the default style\n",
       "- Estimators will overwrite some part of the style using the `sk-estimator` class\n",
       "*/\n",
       "\n",
       "/* Pipeline and ColumnTransformer style (default) */\n",
       "\n",
       "#sk-container-id-2 div.sk-toggleable {\n",
       "  /* Default theme specific background. It is overwritten whether we have a\n",
       "  specific estimator or a Pipeline/ColumnTransformer */\n",
       "  background-color: var(--sklearn-color-background);\n",
       "}\n",
       "\n",
       "/* Toggleable label */\n",
       "#sk-container-id-2 label.sk-toggleable__label {\n",
       "  cursor: pointer;\n",
       "  display: block;\n",
       "  width: 100%;\n",
       "  margin-bottom: 0;\n",
       "  padding: 0.5em;\n",
       "  box-sizing: border-box;\n",
       "  text-align: center;\n",
       "}\n",
       "\n",
       "#sk-container-id-2 label.sk-toggleable__label-arrow:before {\n",
       "  /* Arrow on the left of the label */\n",
       "  content: \"▸\";\n",
       "  float: left;\n",
       "  margin-right: 0.25em;\n",
       "  color: var(--sklearn-color-icon);\n",
       "}\n",
       "\n",
       "#sk-container-id-2 label.sk-toggleable__label-arrow:hover:before {\n",
       "  color: var(--sklearn-color-text);\n",
       "}\n",
       "\n",
       "/* Toggleable content - dropdown */\n",
       "\n",
       "#sk-container-id-2 div.sk-toggleable__content {\n",
       "  max-height: 0;\n",
       "  max-width: 0;\n",
       "  overflow: hidden;\n",
       "  text-align: left;\n",
       "  /* unfitted */\n",
       "  background-color: var(--sklearn-color-unfitted-level-0);\n",
       "}\n",
       "\n",
       "#sk-container-id-2 div.sk-toggleable__content.fitted {\n",
       "  /* fitted */\n",
       "  background-color: var(--sklearn-color-fitted-level-0);\n",
       "}\n",
       "\n",
       "#sk-container-id-2 div.sk-toggleable__content pre {\n",
       "  margin: 0.2em;\n",
       "  border-radius: 0.25em;\n",
       "  color: var(--sklearn-color-text);\n",
       "  /* unfitted */\n",
       "  background-color: var(--sklearn-color-unfitted-level-0);\n",
       "}\n",
       "\n",
       "#sk-container-id-2 div.sk-toggleable__content.fitted pre {\n",
       "  /* unfitted */\n",
       "  background-color: var(--sklearn-color-fitted-level-0);\n",
       "}\n",
       "\n",
       "#sk-container-id-2 input.sk-toggleable__control:checked~div.sk-toggleable__content {\n",
       "  /* Expand drop-down */\n",
       "  max-height: 200px;\n",
       "  max-width: 100%;\n",
       "  overflow: auto;\n",
       "}\n",
       "\n",
       "#sk-container-id-2 input.sk-toggleable__control:checked~label.sk-toggleable__label-arrow:before {\n",
       "  content: \"▾\";\n",
       "}\n",
       "\n",
       "/* Pipeline/ColumnTransformer-specific style */\n",
       "\n",
       "#sk-container-id-2 div.sk-label input.sk-toggleable__control:checked~label.sk-toggleable__label {\n",
       "  color: var(--sklearn-color-text);\n",
       "  background-color: var(--sklearn-color-unfitted-level-2);\n",
       "}\n",
       "\n",
       "#sk-container-id-2 div.sk-label.fitted input.sk-toggleable__control:checked~label.sk-toggleable__label {\n",
       "  background-color: var(--sklearn-color-fitted-level-2);\n",
       "}\n",
       "\n",
       "/* Estimator-specific style */\n",
       "\n",
       "/* Colorize estimator box */\n",
       "#sk-container-id-2 div.sk-estimator input.sk-toggleable__control:checked~label.sk-toggleable__label {\n",
       "  /* unfitted */\n",
       "  background-color: var(--sklearn-color-unfitted-level-2);\n",
       "}\n",
       "\n",
       "#sk-container-id-2 div.sk-estimator.fitted input.sk-toggleable__control:checked~label.sk-toggleable__label {\n",
       "  /* fitted */\n",
       "  background-color: var(--sklearn-color-fitted-level-2);\n",
       "}\n",
       "\n",
       "#sk-container-id-2 div.sk-label label.sk-toggleable__label,\n",
       "#sk-container-id-2 div.sk-label label {\n",
       "  /* The background is the default theme color */\n",
       "  color: var(--sklearn-color-text-on-default-background);\n",
       "}\n",
       "\n",
       "/* On hover, darken the color of the background */\n",
       "#sk-container-id-2 div.sk-label:hover label.sk-toggleable__label {\n",
       "  color: var(--sklearn-color-text);\n",
       "  background-color: var(--sklearn-color-unfitted-level-2);\n",
       "}\n",
       "\n",
       "/* Label box, darken color on hover, fitted */\n",
       "#sk-container-id-2 div.sk-label.fitted:hover label.sk-toggleable__label.fitted {\n",
       "  color: var(--sklearn-color-text);\n",
       "  background-color: var(--sklearn-color-fitted-level-2);\n",
       "}\n",
       "\n",
       "/* Estimator label */\n",
       "\n",
       "#sk-container-id-2 div.sk-label label {\n",
       "  font-family: monospace;\n",
       "  font-weight: bold;\n",
       "  display: inline-block;\n",
       "  line-height: 1.2em;\n",
       "}\n",
       "\n",
       "#sk-container-id-2 div.sk-label-container {\n",
       "  text-align: center;\n",
       "}\n",
       "\n",
       "/* Estimator-specific */\n",
       "#sk-container-id-2 div.sk-estimator {\n",
       "  font-family: monospace;\n",
       "  border: 1px dotted var(--sklearn-color-border-box);\n",
       "  border-radius: 0.25em;\n",
       "  box-sizing: border-box;\n",
       "  margin-bottom: 0.5em;\n",
       "  /* unfitted */\n",
       "  background-color: var(--sklearn-color-unfitted-level-0);\n",
       "}\n",
       "\n",
       "#sk-container-id-2 div.sk-estimator.fitted {\n",
       "  /* fitted */\n",
       "  background-color: var(--sklearn-color-fitted-level-0);\n",
       "}\n",
       "\n",
       "/* on hover */\n",
       "#sk-container-id-2 div.sk-estimator:hover {\n",
       "  /* unfitted */\n",
       "  background-color: var(--sklearn-color-unfitted-level-2);\n",
       "}\n",
       "\n",
       "#sk-container-id-2 div.sk-estimator.fitted:hover {\n",
       "  /* fitted */\n",
       "  background-color: var(--sklearn-color-fitted-level-2);\n",
       "}\n",
       "\n",
       "/* Specification for estimator info (e.g. \"i\" and \"?\") */\n",
       "\n",
       "/* Common style for \"i\" and \"?\" */\n",
       "\n",
       ".sk-estimator-doc-link,\n",
       "a:link.sk-estimator-doc-link,\n",
       "a:visited.sk-estimator-doc-link {\n",
       "  float: right;\n",
       "  font-size: smaller;\n",
       "  line-height: 1em;\n",
       "  font-family: monospace;\n",
       "  background-color: var(--sklearn-color-background);\n",
       "  border-radius: 1em;\n",
       "  height: 1em;\n",
       "  width: 1em;\n",
       "  text-decoration: none !important;\n",
       "  margin-left: 1ex;\n",
       "  /* unfitted */\n",
       "  border: var(--sklearn-color-unfitted-level-1) 1pt solid;\n",
       "  color: var(--sklearn-color-unfitted-level-1);\n",
       "}\n",
       "\n",
       ".sk-estimator-doc-link.fitted,\n",
       "a:link.sk-estimator-doc-link.fitted,\n",
       "a:visited.sk-estimator-doc-link.fitted {\n",
       "  /* fitted */\n",
       "  border: var(--sklearn-color-fitted-level-1) 1pt solid;\n",
       "  color: var(--sklearn-color-fitted-level-1);\n",
       "}\n",
       "\n",
       "/* On hover */\n",
       "div.sk-estimator:hover .sk-estimator-doc-link:hover,\n",
       ".sk-estimator-doc-link:hover,\n",
       "div.sk-label-container:hover .sk-estimator-doc-link:hover,\n",
       ".sk-estimator-doc-link:hover {\n",
       "  /* unfitted */\n",
       "  background-color: var(--sklearn-color-unfitted-level-3);\n",
       "  color: var(--sklearn-color-background);\n",
       "  text-decoration: none;\n",
       "}\n",
       "\n",
       "div.sk-estimator.fitted:hover .sk-estimator-doc-link.fitted:hover,\n",
       ".sk-estimator-doc-link.fitted:hover,\n",
       "div.sk-label-container:hover .sk-estimator-doc-link.fitted:hover,\n",
       ".sk-estimator-doc-link.fitted:hover {\n",
       "  /* fitted */\n",
       "  background-color: var(--sklearn-color-fitted-level-3);\n",
       "  color: var(--sklearn-color-background);\n",
       "  text-decoration: none;\n",
       "}\n",
       "\n",
       "/* Span, style for the box shown on hovering the info icon */\n",
       ".sk-estimator-doc-link span {\n",
       "  display: none;\n",
       "  z-index: 9999;\n",
       "  position: relative;\n",
       "  font-weight: normal;\n",
       "  right: .2ex;\n",
       "  padding: .5ex;\n",
       "  margin: .5ex;\n",
       "  width: min-content;\n",
       "  min-width: 20ex;\n",
       "  max-width: 50ex;\n",
       "  color: var(--sklearn-color-text);\n",
       "  box-shadow: 2pt 2pt 4pt #999;\n",
       "  /* unfitted */\n",
       "  background: var(--sklearn-color-unfitted-level-0);\n",
       "  border: .5pt solid var(--sklearn-color-unfitted-level-3);\n",
       "}\n",
       "\n",
       ".sk-estimator-doc-link.fitted span {\n",
       "  /* fitted */\n",
       "  background: var(--sklearn-color-fitted-level-0);\n",
       "  border: var(--sklearn-color-fitted-level-3);\n",
       "}\n",
       "\n",
       ".sk-estimator-doc-link:hover span {\n",
       "  display: block;\n",
       "}\n",
       "\n",
       "/* \"?\"-specific style due to the `<a>` HTML tag */\n",
       "\n",
       "#sk-container-id-2 a.estimator_doc_link {\n",
       "  float: right;\n",
       "  font-size: 1rem;\n",
       "  line-height: 1em;\n",
       "  font-family: monospace;\n",
       "  background-color: var(--sklearn-color-background);\n",
       "  border-radius: 1rem;\n",
       "  height: 1rem;\n",
       "  width: 1rem;\n",
       "  text-decoration: none;\n",
       "  /* unfitted */\n",
       "  color: var(--sklearn-color-unfitted-level-1);\n",
       "  border: var(--sklearn-color-unfitted-level-1) 1pt solid;\n",
       "}\n",
       "\n",
       "#sk-container-id-2 a.estimator_doc_link.fitted {\n",
       "  /* fitted */\n",
       "  border: var(--sklearn-color-fitted-level-1) 1pt solid;\n",
       "  color: var(--sklearn-color-fitted-level-1);\n",
       "}\n",
       "\n",
       "/* On hover */\n",
       "#sk-container-id-2 a.estimator_doc_link:hover {\n",
       "  /* unfitted */\n",
       "  background-color: var(--sklearn-color-unfitted-level-3);\n",
       "  color: var(--sklearn-color-background);\n",
       "  text-decoration: none;\n",
       "}\n",
       "\n",
       "#sk-container-id-2 a.estimator_doc_link.fitted:hover {\n",
       "  /* fitted */\n",
       "  background-color: var(--sklearn-color-fitted-level-3);\n",
       "}\n",
       "</style><div id=\"sk-container-id-2\" class=\"sk-top-container\"><div class=\"sk-text-repr-fallback\"><pre>Pipeline(steps=[(&#x27;calculated_time&#x27;,\n",
       "                 TemporalVariableTransformer(reference_variable=2024,\n",
       "                                             variables=[&#x27;year&#x27;])),\n",
       "                (&#x27;yeojohnson&#x27;,\n",
       "                 YeoJohnsonTransformer(variables=[&#x27;running&#x27;, &#x27;motor_volume&#x27;,\n",
       "                                                  &#x27;year&#x27;])),\n",
       "                (&#x27;categorical_encoder&#x27;,\n",
       "                 OrdinalEncoder(variables=[&#x27;model&#x27;, &#x27;motor_type&#x27;, &#x27;color&#x27;,\n",
       "                                           &#x27;type&#x27;, &#x27;status&#x27;])),\n",
       "                (&#x27;scaler&#x27;, MinMaxScaler()), (&#x27;model&#x27;, LGBMRegressor())])</pre><b>In a Jupyter environment, please rerun this cell to show the HTML representation or trust the notebook. <br />On GitHub, the HTML representation is unable to render, please try loading this page with nbviewer.org.</b></div><div class=\"sk-container\" hidden><div class=\"sk-item sk-dashed-wrapped\"><div class=\"sk-label-container\"><div class=\"sk-label fitted sk-toggleable\"><input class=\"sk-toggleable__control sk-hidden--visually\" id=\"sk-estimator-id-7\" type=\"checkbox\" ><label for=\"sk-estimator-id-7\" class=\"sk-toggleable__label fitted sk-toggleable__label-arrow fitted\">&nbsp;&nbsp;Pipeline<a class=\"sk-estimator-doc-link fitted\" rel=\"noreferrer\" target=\"_blank\" href=\"https://scikit-learn.org/1.5/modules/generated/sklearn.pipeline.Pipeline.html\">?<span>Documentation for Pipeline</span></a><span class=\"sk-estimator-doc-link fitted\">i<span>Fitted</span></span></label><div class=\"sk-toggleable__content fitted\"><pre>Pipeline(steps=[(&#x27;calculated_time&#x27;,\n",
       "                 TemporalVariableTransformer(reference_variable=2024,\n",
       "                                             variables=[&#x27;year&#x27;])),\n",
       "                (&#x27;yeojohnson&#x27;,\n",
       "                 YeoJohnsonTransformer(variables=[&#x27;running&#x27;, &#x27;motor_volume&#x27;,\n",
       "                                                  &#x27;year&#x27;])),\n",
       "                (&#x27;categorical_encoder&#x27;,\n",
       "                 OrdinalEncoder(variables=[&#x27;model&#x27;, &#x27;motor_type&#x27;, &#x27;color&#x27;,\n",
       "                                           &#x27;type&#x27;, &#x27;status&#x27;])),\n",
       "                (&#x27;scaler&#x27;, MinMaxScaler()), (&#x27;model&#x27;, LGBMRegressor())])</pre></div> </div></div><div class=\"sk-serial\"><div class=\"sk-item\"><div class=\"sk-estimator fitted sk-toggleable\"><input class=\"sk-toggleable__control sk-hidden--visually\" id=\"sk-estimator-id-8\" type=\"checkbox\" ><label for=\"sk-estimator-id-8\" class=\"sk-toggleable__label fitted sk-toggleable__label-arrow fitted\">TemporalVariableTransformer</label><div class=\"sk-toggleable__content fitted\"><pre>TemporalVariableTransformer(reference_variable=2024, variables=[&#x27;year&#x27;])</pre></div> </div></div><div class=\"sk-item\"><div class=\"sk-estimator fitted sk-toggleable\"><input class=\"sk-toggleable__control sk-hidden--visually\" id=\"sk-estimator-id-9\" type=\"checkbox\" ><label for=\"sk-estimator-id-9\" class=\"sk-toggleable__label fitted sk-toggleable__label-arrow fitted\">YeoJohnsonTransformer</label><div class=\"sk-toggleable__content fitted\"><pre>YeoJohnsonTransformer(variables=[&#x27;running&#x27;, &#x27;motor_volume&#x27;, &#x27;year&#x27;])</pre></div> </div></div><div class=\"sk-item\"><div class=\"sk-estimator fitted sk-toggleable\"><input class=\"sk-toggleable__control sk-hidden--visually\" id=\"sk-estimator-id-10\" type=\"checkbox\" ><label for=\"sk-estimator-id-10\" class=\"sk-toggleable__label fitted sk-toggleable__label-arrow fitted\">OrdinalEncoder</label><div class=\"sk-toggleable__content fitted\"><pre>OrdinalEncoder(variables=[&#x27;model&#x27;, &#x27;motor_type&#x27;, &#x27;color&#x27;, &#x27;type&#x27;, &#x27;status&#x27;])</pre></div> </div></div><div class=\"sk-item\"><div class=\"sk-estimator fitted sk-toggleable\"><input class=\"sk-toggleable__control sk-hidden--visually\" id=\"sk-estimator-id-11\" type=\"checkbox\" ><label for=\"sk-estimator-id-11\" class=\"sk-toggleable__label fitted sk-toggleable__label-arrow fitted\">&nbsp;MinMaxScaler<a class=\"sk-estimator-doc-link fitted\" rel=\"noreferrer\" target=\"_blank\" href=\"https://scikit-learn.org/1.5/modules/generated/sklearn.preprocessing.MinMaxScaler.html\">?<span>Documentation for MinMaxScaler</span></a></label><div class=\"sk-toggleable__content fitted\"><pre>MinMaxScaler()</pre></div> </div></div><div class=\"sk-item\"><div class=\"sk-estimator fitted sk-toggleable\"><input class=\"sk-toggleable__control sk-hidden--visually\" id=\"sk-estimator-id-12\" type=\"checkbox\" ><label for=\"sk-estimator-id-12\" class=\"sk-toggleable__label fitted sk-toggleable__label-arrow fitted\">LGBMRegressor</label><div class=\"sk-toggleable__content fitted\"><pre>LGBMRegressor()</pre></div> </div></div></div></div></div></div>"
      ],
      "text/plain": [
       "Pipeline(steps=[('calculated_time',\n",
       "                 TemporalVariableTransformer(reference_variable=2024,\n",
       "                                             variables=['year'])),\n",
       "                ('yeojohnson',\n",
       "                 YeoJohnsonTransformer(variables=['running', 'motor_volume',\n",
       "                                                  'year'])),\n",
       "                ('categorical_encoder',\n",
       "                 OrdinalEncoder(variables=['model', 'motor_type', 'color',\n",
       "                                           'type', 'status'])),\n",
       "                ('scaler', MinMaxScaler()), ('model', LGBMRegressor())])"
      ]
     },
     "execution_count": 28,
     "metadata": {},
     "output_type": "execute_result"
    }
   ],
   "source": [
    "pipeline.fit(X_train, y_train_yeo)"
   ]
  },
  {
   "cell_type": "code",
   "execution_count": 29,
   "metadata": {},
   "outputs": [],
   "source": [
    "# revertimos transformación de y_train\n",
    "y_train_rev=tf.inverse_transform(y_train_t)\n",
    "\n",
    "# convertimos a series aplicando el mismo index que y_train original\n",
    "y_train_t_rev=y_train_rev.iloc[:,0]\n",
    "y_train_t_rev.index = y_train.index\n",
    "\n",
    "# revertimos transformación de y_test\n",
    "y_test_rev=tf.inverse_transform(y_test_t)\n",
    "\n",
    "# convertimos a series aplicando el mismo index que y_test original\n",
    "y_test_t_rev=y_test_rev.iloc[:,0]\n",
    "y_test_t_rev.index = y_test.index"
   ]
  },
  {
   "cell_type": "code",
   "execution_count": 30,
   "metadata": {},
   "outputs": [
    {
     "name": "stdout",
     "output_type": "stream",
     "text": [
      "train mse: 6980040\n",
      "train rmse: 2641\n",
      "train r2: 0.8674480938981908\n",
      "\n",
      "test mse: 7991284\n",
      "test rmse: 2826\n",
      "test r2: 0.8034230712022371\n",
      "\n",
      "Precio del coche promedio:  15700\n"
     ]
    },
    {
     "name": "stderr",
     "output_type": "stream",
     "text": [
      "c:\\Users\\cmatos\\AppData\\Local\\anaconda3\\envs\\env-mlops\\lib\\site-packages\\sklearn\\metrics\\_regression.py:492: FutureWarning: 'squared' is deprecated in version 1.4 and will be removed in 1.6. To calculate the root mean squared error, use the function'root_mean_squared_error'.\n",
      "  warnings.warn(\n",
      "c:\\Users\\cmatos\\AppData\\Local\\anaconda3\\envs\\env-mlops\\lib\\site-packages\\sklearn\\metrics\\_regression.py:492: FutureWarning: 'squared' is deprecated in version 1.4 and will be removed in 1.6. To calculate the root mean squared error, use the function'root_mean_squared_error'.\n",
      "  warnings.warn(\n"
     ]
    }
   ],
   "source": [
    "# predicciones con dataset train\n",
    "\n",
    "pred = pipeline.predict(X_train)\n",
    "pred_rev = tf.inverse_transform(pred.reshape(-1, 1))\n",
    "\n",
    "# mse, rmse y r2 del X_train\n",
    "print('train mse: {}'.format(int(\n",
    "    mean_squared_error(y_train_t_rev, pred_rev.to_numpy()))))\n",
    "print('train rmse: {}'.format(int(\n",
    "    mean_squared_error(y_train_t_rev, pred_rev.to_numpy(), squared=False))))\n",
    "print('train r2: {}'.format(\n",
    "    r2_score(y_train_t_rev, pred_rev.to_numpy())))\n",
    "print()\n",
    "\n",
    "# predicciones con dataset test\n",
    "pred_test = pipeline.predict(X_test)\n",
    "pred_test_rev = tf.inverse_transform(pred_test.reshape(-1, 1))\n",
    "\n",
    "# mse, rmse y r2 del X_test\n",
    "print('test mse: {}'.format(int(\n",
    "    mean_squared_error(y_test_t_rev, pred_test_rev.to_numpy()))))\n",
    "print('test rmse: {}'.format(int(\n",
    "    mean_squared_error(y_test_t_rev, pred_test_rev.to_numpy(), squared=False))))\n",
    "print('test r2: {}'.format(\n",
    "    r2_score(y_test_t_rev, pred_test_rev.to_numpy())))\n",
    "print()\n",
    "\n",
    "print('Precio del coche promedio: ', int(y_train_t_rev.median()))"
   ]
  },
  {
   "cell_type": "code",
   "execution_count": 31,
   "metadata": {},
   "outputs": [],
   "source": [
    "#pred_rev_test = tf.inverse_transform(pred.reshape(-1, 1))\n",
    "#pred_rev_test"
   ]
  },
  {
   "cell_type": "markdown",
   "metadata": {
    "id": "8phE1CTljuam"
   },
   "source": [
    "Identical results to when we did all the engineering manually."
   ]
  },
  {
   "cell_type": "code",
   "execution_count": 32,
   "metadata": {
    "colab": {
     "base_uri": "https://localhost:8080/",
     "height": 1000
    },
    "executionInfo": {
     "elapsed": 807,
     "status": "ok",
     "timestamp": 1713466596407,
     "user": {
      "displayName": "Luis Fernando Solis Navarro",
      "userId": "12047414360120813726"
     },
     "user_tz": 180
    },
    "id": "jPBm1wDAjuam",
    "outputId": "baa525c2-a6da-4eca-e533-d2d2800b40c5",
    "scrolled": true
   },
   "outputs": [
    {
     "data": {
      "text/plain": [
       "Text(0.5, 1.0, 'Evaluación de predicciones (LGBMRegressor)')"
      ]
     },
     "execution_count": 32,
     "metadata": {},
     "output_type": "execute_result"
    },
    {
     "data": {
      "image/png": "[encoded data removed]",
      "text/plain": [
       "<Figure size 640x480 with 1 Axes>"
      ]
     },
     "metadata": {},
     "output_type": "display_data"
    }
   ],
   "source": [
    "# let's evaluate our predictions respect to the real sale price\n",
    "plt.scatter(y_test, pipeline.predict(X_test))\n",
    "plt.xlabel('Precio del carro real')\n",
    "plt.ylabel('Precio del carro predecido')\n",
    "plt.title('Evaluación de predicciones (LGBMRegressor)')"
   ]
  },
  {
   "cell_type": "code",
   "execution_count": null,
   "metadata": {
    "colab": {
     "base_uri": "https://localhost:8080/",
     "height": 1000
    },
    "executionInfo": {
     "elapsed": 382,
     "status": "ok",
     "timestamp": 1713466597752,
     "user": {
      "displayName": "Luis Fernando Solis Navarro",
      "userId": "12047414360120813726"
     },
     "user_tz": 180
    },
    "id": "lNFt1gJujuam",
    "outputId": "2a934689-38f1-4ca3-d574-d6e42d7e36d0"
   },
   "outputs": [
    {
     "data": {
      "image/png": "[encoded data removed]",
      "text/plain": [
       "<Figure size 640x480 with 1 Axes>"
      ]
     },
     "metadata": {},
     "output_type": "display_data"
    }
   ],
   "source": [
    "# evaluación de distribución de errores:\n",
    "\n",
    "y_test.reset_index(drop=True, inplace=True)\n",
    "preds = pd.Series(pipeline.predict(X_test))\n",
    "errors = y_test - preds\n",
    "errors.hist(bins=30)\n",
    "plt.show()"
   ]
  },
  {
   "cell_type": "code",
   "execution_count": null,
   "metadata": {
    "colab": {
     "base_uri": "https://localhost:8080/"
    },
    "executionInfo": {
     "elapsed": 2,
     "status": "ok",
     "timestamp": 1713466604672,
     "user": {
      "displayName": "Luis Fernando Solis Navarro",
      "userId": "12047414360120813726"
     },
     "user_tz": 180
    },
    "id": "6NsZyj5Jjuam",
    "outputId": "7fe52a83-a4e4-4998-bcbe-2e46c90e7815"
   },
   "outputs": [
    {
     "data": {
      "text/plain": [
       "['./Output/precio_coches_pipeline.joblib']"
      ]
     },
     "execution_count": 14,
     "metadata": {},
     "output_type": "execute_result"
    }
   ],
   "source": []
  },
  {
   "cell_type": "markdown",
   "metadata": {
    "id": "7lBJuEp0juam"
   },
   "source": [
    "TEST"
   ]
  },
  {
   "cell_type": "code",
   "execution_count": 15,
   "metadata": {},
   "outputs": [
    {
     "data": {
      "text/plain": [
       "0       24000.0\n",
       "1       85000.0\n",
       "2       30000.0\n",
       "3       53000.0\n",
       "4      230000.0\n",
       "         ...   \n",
       "406     33400.0\n",
       "407     60000.0\n",
       "408    218000.0\n",
       "409     40000.0\n",
       "410    120000.0\n",
       "Name: running, Length: 411, dtype: float64"
      ]
     },
     "execution_count": 15,
     "metadata": {},
     "output_type": "execute_result"
    }
   ],
   "source": [
    "# load the unseen / new dataset\n",
    "data = pd.read_csv('./input/test_coche.csv')\n",
    "\n",
    "data[\"running\"] = data[\"running\"].astype(str)\n",
    "data[\"running\"] = data[\"running\"].str.replace(\" km\",\"\")\n",
    "data[\"running\"] = data[\"running\"].str.replace(\" miles\",\"\")\n",
    "data[\"running\"] = data[\"running\"].astype(float)\n",
    "data[\"running\"]"
   ]
  },
  {
   "cell_type": "code",
   "execution_count": 16,
   "metadata": {
    "colab": {
     "base_uri": "https://localhost:8080/"
    },
    "executionInfo": {
     "elapsed": 243,
     "status": "ok",
     "timestamp": 1713466630643,
     "user": {
      "displayName": "Luis Fernando Solis Navarro",
      "userId": "12047414360120813726"
     },
     "user_tz": 180
    },
    "id": "2i27KadBjuam",
    "outputId": "dcf4be23-0ae5-4ad7-f09d-a5e19b9f0454"
   },
   "outputs": [
    {
     "name": "stdout",
     "output_type": "stream",
     "text": [
      "(411, 8)\n"
     ]
    }
   ],
   "source": [
    "data = data[FEATURES]\n",
    "\n",
    "print(data.shape)"
   ]
  },
  {
   "cell_type": "code",
   "execution_count": 17,
   "metadata": {},
   "outputs": [
    {
     "data": {
      "text/html": [
       "<div>\n",
       "<style scoped>\n",
       "    .dataframe tbody tr th:only-of-type {\n",
       "        vertical-align: middle;\n",
       "    }\n",
       "\n",
       "    .dataframe tbody tr th {\n",
       "        vertical-align: top;\n",
       "    }\n",
       "\n",
       "    .dataframe thead th {\n",
       "        text-align: right;\n",
       "    }\n",
       "</style>\n",
       "<table border=\"1\" class=\"dataframe\">\n",
       "  <thead>\n",
       "    <tr style=\"text-align: right;\">\n",
       "      <th></th>\n",
       "      <th>model</th>\n",
       "      <th>year</th>\n",
       "      <th>motor_type</th>\n",
       "      <th>running</th>\n",
       "      <th>color</th>\n",
       "      <th>type</th>\n",
       "      <th>status</th>\n",
       "      <th>motor_volume</th>\n",
       "    </tr>\n",
       "  </thead>\n",
       "  <tbody>\n",
       "    <tr>\n",
       "      <th>0</th>\n",
       "      <td>kia</td>\n",
       "      <td>2020</td>\n",
       "      <td>petrol</td>\n",
       "      <td>24000.0</td>\n",
       "      <td>black</td>\n",
       "      <td>sedan</td>\n",
       "      <td>excellent</td>\n",
       "      <td>2.0</td>\n",
       "    </tr>\n",
       "    <tr>\n",
       "      <th>1</th>\n",
       "      <td>nissan</td>\n",
       "      <td>2017</td>\n",
       "      <td>petrol</td>\n",
       "      <td>85000.0</td>\n",
       "      <td>white</td>\n",
       "      <td>suv</td>\n",
       "      <td>excellent</td>\n",
       "      <td>2.0</td>\n",
       "    </tr>\n",
       "    <tr>\n",
       "      <th>2</th>\n",
       "      <td>hyundai</td>\n",
       "      <td>2021</td>\n",
       "      <td>petrol</td>\n",
       "      <td>30000.0</td>\n",
       "      <td>white</td>\n",
       "      <td>sedan</td>\n",
       "      <td>excellent</td>\n",
       "      <td>2.0</td>\n",
       "    </tr>\n",
       "    <tr>\n",
       "      <th>3</th>\n",
       "      <td>kia</td>\n",
       "      <td>2018</td>\n",
       "      <td>petrol</td>\n",
       "      <td>53000.0</td>\n",
       "      <td>silver</td>\n",
       "      <td>sedan</td>\n",
       "      <td>excellent</td>\n",
       "      <td>2.0</td>\n",
       "    </tr>\n",
       "    <tr>\n",
       "      <th>4</th>\n",
       "      <td>mercedes-benz</td>\n",
       "      <td>2003</td>\n",
       "      <td>petrol</td>\n",
       "      <td>230000.0</td>\n",
       "      <td>black</td>\n",
       "      <td>Universal</td>\n",
       "      <td>normal</td>\n",
       "      <td>1.8</td>\n",
       "    </tr>\n",
       "  </tbody>\n",
       "</table>\n",
       "</div>"
      ],
      "text/plain": [
       "           model  year motor_type   running   color       type     status  \\\n",
       "0            kia  2020     petrol   24000.0   black      sedan  excellent   \n",
       "1         nissan  2017     petrol   85000.0   white        suv  excellent   \n",
       "2        hyundai  2021     petrol   30000.0   white      sedan  excellent   \n",
       "3            kia  2018     petrol   53000.0  silver      sedan  excellent   \n",
       "4  mercedes-benz  2003     petrol  230000.0   black  Universal     normal   \n",
       "\n",
       "   motor_volume  \n",
       "0           2.0  \n",
       "1           2.0  \n",
       "2           2.0  \n",
       "3           2.0  \n",
       "4           1.8  "
      ]
     },
     "execution_count": 17,
     "metadata": {},
     "output_type": "execute_result"
    }
   ],
   "source": [
    "data.head()"
   ]
  },
  {
   "cell_type": "code",
   "execution_count": 18,
   "metadata": {
    "colab": {
     "base_uri": "https://localhost:8080/"
    },
    "executionInfo": {
     "elapsed": 328,
     "status": "ok",
     "timestamp": 1713466636976,
     "user": {
      "displayName": "Luis Fernando Solis Navarro",
      "userId": "12047414360120813726"
     },
     "user_tz": 180
    },
    "id": "i1zO9imxjuam",
    "outputId": "54a0a80d-8b26-436a-bc3e-5e14105d2e43"
   },
   "outputs": [],
   "source": [
    "new_preds = pipeline.predict(data)"
   ]
  },
  {
   "cell_type": "code",
   "execution_count": 19,
   "metadata": {},
   "outputs": [
    {
     "data": {
      "text/plain": [
       "array([ 9.74784408,  9.73126393, 10.1222351 ,  9.58845752,  8.68864125,\n",
       "        9.77850014,  8.60743446,  8.87713786,  9.71910679,  9.90648719,\n",
       "       10.16057697,  8.62991403,  9.52536011,  9.26714766,  9.76951182,\n",
       "        9.21211541,  9.79446   ,  9.54657055,  9.56325869,  9.25470482,\n",
       "        8.53148272,  8.53468265,  9.4994087 ,  9.75510514,  9.98010462,\n",
       "        9.97898128,  9.99174015,  9.84238666,  8.58982901,  9.72723825,\n",
       "        9.7403489 ,  9.49960534,  9.60021066,  8.59535903, 10.32165235,\n",
       "        9.89943744,  9.29182357,  9.61879324,  9.76096276,  9.74366722,\n",
       "        9.5917564 ,  9.78630835,  9.81547566, 10.2206492 ,  9.79577105,\n",
       "        9.91427922,  9.5265916 ,  9.40042371,  9.84455134,  9.01996275,\n",
       "        9.86643135,  8.72350425,  9.72850929,  9.72228601,  9.65741201,\n",
       "        9.89110717, 10.03613271,  9.12138871,  9.29953295,  9.79065176,\n",
       "        9.49203166,  9.7716421 ,  9.43154106, 10.00417627,  9.85647176,\n",
       "        9.75410802,  9.51191642,  9.91284857, 10.20430549,  9.87787507,\n",
       "        9.53952493, 10.01743469,  9.65686486,  9.59155787,  9.69919906,\n",
       "        9.40180494,  9.65041811,  9.92727104,  9.19934585, 10.47215405,\n",
       "        8.94796013, 10.02046315,  9.57343425,  9.62980803,  8.62352368,\n",
       "        9.50712153,  9.60927902, 10.20450159, 10.1312108 ,  9.77847142,\n",
       "        9.9369877 ,  9.67169062,  9.93636922,  9.73239587,  9.21638222,\n",
       "        9.87829852,  9.82565133,  9.1860984 , 10.2471154 ,  9.4000667 ,\n",
       "        9.63555184,  9.81547566,  9.8047379 ,  9.61213124,  9.07575803,\n",
       "        9.59778385,  9.74079392,  9.69900688,  9.53343204,  9.93856022,\n",
       "        8.65735445,  9.06111784,  9.6939404 ,  8.76674123,  9.42794041,\n",
       "        9.5800798 ,  9.7520162 ,  9.96722429,  9.6601865 ,  9.79152145,\n",
       "        9.47857131,  9.50801538,  9.77463917,  9.66040784,  9.49309097,\n",
       "        8.59236838,  9.85821211,  9.59046321,  9.79842399,  9.3215976 ,\n",
       "        9.11036579, 10.35986461,  8.4664674 ,  8.74141724,  9.52626796,\n",
       "        9.95256677,  9.49704109,  9.52870737,  9.75468129,  9.63969019,\n",
       "        9.76019464,  9.62259006,  9.47183767,  9.67541467,  9.16253624,\n",
       "        9.51176258, 10.06490268,  9.63667838,  9.52283913,  9.38914124,\n",
       "        9.01524843,  9.10731986,  9.76795338,  9.85939647,  9.08030939,\n",
       "        9.15015762,  9.40768792,  8.34648028,  9.47245178,  9.68440076,\n",
       "        9.72809212, 10.32741178,  9.35177626,  9.27527046, 10.18593592,\n",
       "        8.4557985 ,  9.8020057 ,  9.43634026,  9.04872993,  9.84926379,\n",
       "       10.22488848, 10.00532617, 10.33870129,  9.7059729 ,  9.81659176,\n",
       "        8.82587809,  9.85627137, 10.09232444,  9.13714958, 10.40465855,\n",
       "        9.69155128, 10.06923872,  9.90986668,  9.58309615, 10.25049543,\n",
       "        9.04273942,  9.22533956,  9.97041826,  9.91705756,  9.6075701 ,\n",
       "        9.36643646, 10.00417627,  9.5706985 ,  9.67404989,  9.78245551,\n",
       "        9.65324588,  9.63891846,  9.43835339,  9.73966418,  9.17715921,\n",
       "        9.55148443,  9.66901413,  9.43566521,  9.98064435, 10.42827169,\n",
       "        9.28906176,  9.66165897,  9.86143634,  9.94477525,  9.51715494,\n",
       "        9.6656102 ,  9.64882634, 10.19150099,  9.74839869,  9.22005541,\n",
       "        9.20246903,  9.73492872,  9.69359301,  9.44326359,  9.31126398,\n",
       "        9.65377237,  9.86006506, 10.02609553,  8.40669894,  9.77970519,\n",
       "        8.2221262 ,  9.00247857,  9.68480709,  9.7033704 ,  9.82841443,\n",
       "        9.17346129, 10.26224916,  9.52759256,  9.16473762,  9.14483394,\n",
       "        9.38966551,  9.47244791, 10.00322844,  9.75790782,  9.27683398,\n",
       "        9.95413963,  9.92242491,  9.7024634 ,  9.58920996,  9.51922163,\n",
       "        8.82861696,  9.78124735, 10.21066642,  9.95823307,  9.55890673,\n",
       "        9.3110912 ,  9.59597778,  9.76250053,  9.60757066,  9.80068953,\n",
       "        9.34486281,  9.56914546,  9.17490955, 10.08327773,  9.60304395,\n",
       "        8.59863348,  9.82587182,  9.10773084,  9.9295756 ,  9.41998783,\n",
       "        9.92779942,  9.72836594,  9.48645171,  8.66736324,  9.83457924,\n",
       "        9.57070725,  9.56616369,  9.47788507,  9.1233209 ,  8.77092811,\n",
       "        9.90868731, 10.12136433, 10.00737436,  9.35104413,  9.8303148 ,\n",
       "        9.70576997,  9.11309695,  9.75510514,  9.79799137,  8.78620619,\n",
       "        8.77663127,  9.56575086,  9.75449194,  9.82137224, 10.25830293,\n",
       "        9.54544813,  9.81519657,  9.97101173,  9.7626223 ,  9.36600751,\n",
       "        9.25715851,  9.53724572, 10.24608608,  9.90962502,  9.69647961,\n",
       "        8.66784354, 10.03947698,  9.74679086,  9.62264069,  9.5507268 ,\n",
       "        9.61686686,  9.57366339,  9.22406299,  9.77409202, 10.30034745,\n",
       "        9.33278026,  8.78269403,  9.6001251 ,  8.50141058,  9.62505358,\n",
       "        9.65004056,  9.96538086,  9.12236331,  9.72228601,  9.85941516,\n",
       "        9.65041811,  9.4310544 ,  8.65454068,  9.56497462,  9.23212288,\n",
       "        8.43759334,  9.60752847, 10.19026177,  9.63290477,  9.02061927,\n",
       "        8.53557616,  8.40669894,  9.32128194, 10.07178746,  9.38416003,\n",
       "        9.8113647 ,  9.62513681,  9.60763346, 10.04482586,  9.85800384,\n",
       "        9.71502759,  9.75794503,  9.75510514,  9.64280026,  9.4382652 ,\n",
       "        9.80324766,  9.77743603,  9.74237091,  9.51665643,  9.52876621,\n",
       "       10.05218383,  9.62447896,  9.89108701, 10.07321238,  9.8657045 ,\n",
       "        9.76130943, 10.29141133,  9.17751965,  8.98926666,  9.51998684,\n",
       "        9.81575428,  9.234439  , 10.06316533,  9.76060292,  9.40522196,\n",
       "       10.0772651 , 10.34718055, 10.09744188,  9.70343018,  9.66953743,\n",
       "        9.34239185,  9.48673415,  9.96775947,  9.1869272 ,  9.20768244,\n",
       "        9.22878406,  9.89718589,  9.02548527,  8.60871384,  9.48375432,\n",
       "        9.0972225 ,  9.69052137,  8.94375546,  9.81314026,  8.89767654,\n",
       "        9.70938898,  9.40419765,  9.71632667,  8.90775077,  9.82652789,\n",
       "        8.56132726, 10.41196527, 10.28144166,  9.58280157,  9.6705388 ,\n",
       "        8.6278027 ,  8.57546569,  9.72452418,  9.60623259,  9.99912104,\n",
       "        9.74092139,  9.82646381, 10.10105925,  9.25008969,  9.65638594,\n",
       "        8.97334034, 10.07830946,  9.52318824,  9.4901239 ,  9.6638009 ,\n",
       "        9.5014069 ])"
      ]
     },
     "execution_count": 19,
     "metadata": {},
     "output_type": "execute_result"
    }
   ],
   "source": [
    "new_preds"
   ]
  },
  {
   "cell_type": "code",
   "execution_count": null,
   "metadata": {
    "colab": {
     "base_uri": "https://localhost:8080/",
     "height": 448
    },
    "executionInfo": {
     "elapsed": 344,
     "status": "ok",
     "timestamp": 1713466637319,
     "user": {
      "displayName": "Luis Fernando Solis Navarro",
      "userId": "12047414360120813726"
     },
     "user_tz": 180
    },
    "id": "POr3yZL4juan",
    "outputId": "35a74342-f766-4a8b-b4af-8efd080d2af4"
   },
   "outputs": [
    {
     "data": {
      "text/plain": [
       "<Axes: >"
      ]
     },
     "execution_count": 20,
     "metadata": {},
     "output_type": "execute_result"
    },
    {
     "data": {
      "image/png": "[encoded data removed]",
      "text/plain": [
       "<Figure size 640x480 with 1 Axes>"
      ]
     },
     "metadata": {},
     "output_type": "display_data"
    }
   ],
   "source": [
    "pd.Series(np.exp(new_preds)).hist(bins=50)"
   ]
  }
 ],
 "metadata": {
  "colab": {
   "provenance": []
  },
  "kernelspec": {
   "display_name": "env-mlops",
   "language": "python",
   "name": "python3"
  },
  "language_info": {
   "codemirror_mode": {
    "name": "ipython",
    "version": 3
   },
   "file_extension": ".py",
   "mimetype": "text/x-python",
   "name": "python",
   "nbconvert_exporter": "python",
   "pygments_lexer": "ipython3",
   "version": "3.9.20"
  },
  "toc": {
   "base_numbering": 1,
   "nav_menu": {},
   "number_sections": true,
   "sideBar": true,
   "skip_h1_title": false,
   "title_cell": "Table of Contents",
   "title_sidebar": "Contents",
   "toc_cell": false,
   "toc_position": {
    "height": "583px",
    "left": "0px",
    "right": "1324px",
    "top": "107px",
    "width": "212px"
   },
   "toc_section_display": "block",
   "toc_window_display": true
  }
 },
 "nbformat": 4,
 "nbformat_minor": 0
}
